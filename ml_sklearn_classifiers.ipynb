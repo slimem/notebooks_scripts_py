{
  "nbformat": 4,
  "nbformat_minor": 0,
  "metadata": {
    "colab": {
      "name": "ml_sklearn_classifiers.ipynb",
      "provenance": [],
      "collapsed_sections": [],
      "toc_visible": true
    },
    "kernelspec": {
      "name": "python3",
      "display_name": "Python 3"
    }
  },
  "cells": [
    {
      "cell_type": "markdown",
      "metadata": {
        "id": "Jm6CXHNGbCpx"
      },
      "source": [
        "#Machine learning avec sklearn\n",
        "Dans ce fichier on va tester des classifiers differents avec la dataset titanic\n"
      ]
    },
    {
      "cell_type": "markdown",
      "metadata": {
        "id": "lCmX3GGSx_c6"
      },
      "source": [
        "##ICI LA PARTIE IMPORTATION\n",
        "####on a commencé par l'importation des bibliothéque pandas, NumPy, Scikit-Learn, Matplotlib, seaborn\n"
      ]
    },
    {
      "cell_type": "code",
      "metadata": {
        "id": "Q5RczyxDa5KG"
      },
      "source": [
        "import numpy as np\n",
        "import pandas as pd\n",
        "from sklearn import datasets, linear_model\n",
        "from sklearn.model_selection import train_test_split\n",
        "from matplotlib import pyplot as plt\n",
        "from sklearn.metrics import f1_score\n",
        "from sklearn.metrics import confusion_matrix\n",
        "from sklearn.metrics import precision_score, recall_score\n",
        "import seaborn as sns"
      ],
      "execution_count": null,
      "outputs": []
    },
    {
      "cell_type": "markdown",
      "metadata": {
        "id": "wCOBYSP1eezr"
      },
      "source": [
        "#Import titanic\n",
        "\n",
        "voilà la commande de la définition de notre data frame"
      ]
    },
    {
      "cell_type": "code",
      "metadata": {
        "id": "F0evdGCZeR1y",
        "outputId": "90255dcb-6907-4f38-b6ec-cca2b996ef27",
        "colab": {
          "base_uri": "https://localhost:8080/"
        }
      },
      "source": [
        "df = pd.read_csv(\"titanic.csv\")\n",
        "\n",
        "df.head()"
      ],
      "execution_count": null,
      "outputs": [
        {
          "output_type": "execute_result",
          "data": {
            "text/html": [
              "<div>\n",
              "<style scoped>\n",
              "    .dataframe tbody tr th:only-of-type {\n",
              "        vertical-align: middle;\n",
              "    }\n",
              "\n",
              "    .dataframe tbody tr th {\n",
              "        vertical-align: top;\n",
              "    }\n",
              "\n",
              "    .dataframe thead th {\n",
              "        text-align: right;\n",
              "    }\n",
              "</style>\n",
              "<table border=\"1\" class=\"dataframe\">\n",
              "  <thead>\n",
              "    <tr style=\"text-align: right;\">\n",
              "      <th></th>\n",
              "      <th>pclass</th>\n",
              "      <th>survived</th>\n",
              "      <th>name</th>\n",
              "      <th>sex</th>\n",
              "      <th>age</th>\n",
              "      <th>sibsp</th>\n",
              "      <th>parch</th>\n",
              "      <th>ticket</th>\n",
              "      <th>fare</th>\n",
              "      <th>cabin</th>\n",
              "      <th>embarked</th>\n",
              "      <th>boat</th>\n",
              "      <th>body</th>\n",
              "      <th>home.dest</th>\n",
              "    </tr>\n",
              "  </thead>\n",
              "  <tbody>\n",
              "    <tr>\n",
              "      <th>0</th>\n",
              "      <td>1</td>\n",
              "      <td>1</td>\n",
              "      <td>Allen, Miss. Elisabeth Walton</td>\n",
              "      <td>female</td>\n",
              "      <td>29.00</td>\n",
              "      <td>0</td>\n",
              "      <td>0</td>\n",
              "      <td>24160</td>\n",
              "      <td>211.3375</td>\n",
              "      <td>B5</td>\n",
              "      <td>S</td>\n",
              "      <td>2</td>\n",
              "      <td>NaN</td>\n",
              "      <td>St Louis, MO</td>\n",
              "    </tr>\n",
              "    <tr>\n",
              "      <th>1</th>\n",
              "      <td>1</td>\n",
              "      <td>1</td>\n",
              "      <td>Allison, Master. Hudson Trevor</td>\n",
              "      <td>male</td>\n",
              "      <td>0.92</td>\n",
              "      <td>1</td>\n",
              "      <td>2</td>\n",
              "      <td>113781</td>\n",
              "      <td>151.5500</td>\n",
              "      <td>C22 C26</td>\n",
              "      <td>S</td>\n",
              "      <td>11</td>\n",
              "      <td>NaN</td>\n",
              "      <td>Montreal, PQ / Chesterville, ON</td>\n",
              "    </tr>\n",
              "    <tr>\n",
              "      <th>2</th>\n",
              "      <td>1</td>\n",
              "      <td>0</td>\n",
              "      <td>Allison, Miss. Helen Loraine</td>\n",
              "      <td>female</td>\n",
              "      <td>2.00</td>\n",
              "      <td>1</td>\n",
              "      <td>2</td>\n",
              "      <td>113781</td>\n",
              "      <td>151.5500</td>\n",
              "      <td>C22 C26</td>\n",
              "      <td>S</td>\n",
              "      <td>NaN</td>\n",
              "      <td>NaN</td>\n",
              "      <td>Montreal, PQ / Chesterville, ON</td>\n",
              "    </tr>\n",
              "    <tr>\n",
              "      <th>3</th>\n",
              "      <td>1</td>\n",
              "      <td>0</td>\n",
              "      <td>Allison, Mr. Hudson Joshua Creighton</td>\n",
              "      <td>male</td>\n",
              "      <td>30.00</td>\n",
              "      <td>1</td>\n",
              "      <td>2</td>\n",
              "      <td>113781</td>\n",
              "      <td>151.5500</td>\n",
              "      <td>C22 C26</td>\n",
              "      <td>S</td>\n",
              "      <td>NaN</td>\n",
              "      <td>135.0</td>\n",
              "      <td>Montreal, PQ / Chesterville, ON</td>\n",
              "    </tr>\n",
              "    <tr>\n",
              "      <th>4</th>\n",
              "      <td>1</td>\n",
              "      <td>0</td>\n",
              "      <td>Allison, Mrs. Hudson J C (Bessie Waldo Daniels)</td>\n",
              "      <td>female</td>\n",
              "      <td>25.00</td>\n",
              "      <td>1</td>\n",
              "      <td>2</td>\n",
              "      <td>113781</td>\n",
              "      <td>151.5500</td>\n",
              "      <td>C22 C26</td>\n",
              "      <td>S</td>\n",
              "      <td>NaN</td>\n",
              "      <td>NaN</td>\n",
              "      <td>Montreal, PQ / Chesterville, ON</td>\n",
              "    </tr>\n",
              "  </tbody>\n",
              "</table>\n",
              "</div>"
            ],
            "text/plain": [
              "   pclass  survived  ...   body                        home.dest\n",
              "0       1         1  ...    NaN                     St Louis, MO\n",
              "1       1         1  ...    NaN  Montreal, PQ / Chesterville, ON\n",
              "2       1         0  ...    NaN  Montreal, PQ / Chesterville, ON\n",
              "3       1         0  ...  135.0  Montreal, PQ / Chesterville, ON\n",
              "4       1         0  ...    NaN  Montreal, PQ / Chesterville, ON\n",
              "\n",
              "[5 rows x 14 columns]"
            ]
          },
          "metadata": {
            "tags": []
          },
          "execution_count": 107
        }
      ]
    },
    {
      "cell_type": "markdown",
      "metadata": {
        "id": "08FXO-scej6I"
      },
      "source": [
        "##ANALYSE EXPLICATIVE\n",
        "\n",
        "### ici nous avons fait une analyse explicative sous forme de statistique pour chaque variable\n",
        "\n",
        "\n",
        "\n"
      ]
    },
    {
      "cell_type": "code",
      "metadata": {
        "id": "VArUzFmEgsXA",
        "outputId": "1c6896e7-7659-468e-81c6-a2653edc2e3a",
        "colab": {
          "base_uri": "https://localhost:8080/"
        }
      },
      "source": [
        "df.describe()"
      ],
      "execution_count": null,
      "outputs": [
        {
          "output_type": "execute_result",
          "data": {
            "text/html": [
              "<div>\n",
              "<style scoped>\n",
              "    .dataframe tbody tr th:only-of-type {\n",
              "        vertical-align: middle;\n",
              "    }\n",
              "\n",
              "    .dataframe tbody tr th {\n",
              "        vertical-align: top;\n",
              "    }\n",
              "\n",
              "    .dataframe thead th {\n",
              "        text-align: right;\n",
              "    }\n",
              "</style>\n",
              "<table border=\"1\" class=\"dataframe\">\n",
              "  <thead>\n",
              "    <tr style=\"text-align: right;\">\n",
              "      <th></th>\n",
              "      <th>pclass</th>\n",
              "      <th>survived</th>\n",
              "      <th>age</th>\n",
              "      <th>sibsp</th>\n",
              "      <th>parch</th>\n",
              "      <th>fare</th>\n",
              "      <th>body</th>\n",
              "    </tr>\n",
              "  </thead>\n",
              "  <tbody>\n",
              "    <tr>\n",
              "      <th>count</th>\n",
              "      <td>1309.000000</td>\n",
              "      <td>1309.000000</td>\n",
              "      <td>1046.000000</td>\n",
              "      <td>1309.000000</td>\n",
              "      <td>1309.000000</td>\n",
              "      <td>1308.000000</td>\n",
              "      <td>121.000000</td>\n",
              "    </tr>\n",
              "    <tr>\n",
              "      <th>mean</th>\n",
              "      <td>2.294882</td>\n",
              "      <td>0.381971</td>\n",
              "      <td>29.881138</td>\n",
              "      <td>0.498854</td>\n",
              "      <td>0.385027</td>\n",
              "      <td>33.295479</td>\n",
              "      <td>160.809917</td>\n",
              "    </tr>\n",
              "    <tr>\n",
              "      <th>std</th>\n",
              "      <td>0.837836</td>\n",
              "      <td>0.486055</td>\n",
              "      <td>14.413493</td>\n",
              "      <td>1.041658</td>\n",
              "      <td>0.865560</td>\n",
              "      <td>51.758668</td>\n",
              "      <td>97.696922</td>\n",
              "    </tr>\n",
              "    <tr>\n",
              "      <th>min</th>\n",
              "      <td>1.000000</td>\n",
              "      <td>0.000000</td>\n",
              "      <td>0.170000</td>\n",
              "      <td>0.000000</td>\n",
              "      <td>0.000000</td>\n",
              "      <td>0.000000</td>\n",
              "      <td>1.000000</td>\n",
              "    </tr>\n",
              "    <tr>\n",
              "      <th>25%</th>\n",
              "      <td>2.000000</td>\n",
              "      <td>0.000000</td>\n",
              "      <td>21.000000</td>\n",
              "      <td>0.000000</td>\n",
              "      <td>0.000000</td>\n",
              "      <td>7.895800</td>\n",
              "      <td>72.000000</td>\n",
              "    </tr>\n",
              "    <tr>\n",
              "      <th>50%</th>\n",
              "      <td>3.000000</td>\n",
              "      <td>0.000000</td>\n",
              "      <td>28.000000</td>\n",
              "      <td>0.000000</td>\n",
              "      <td>0.000000</td>\n",
              "      <td>14.454200</td>\n",
              "      <td>155.000000</td>\n",
              "    </tr>\n",
              "    <tr>\n",
              "      <th>75%</th>\n",
              "      <td>3.000000</td>\n",
              "      <td>1.000000</td>\n",
              "      <td>39.000000</td>\n",
              "      <td>1.000000</td>\n",
              "      <td>0.000000</td>\n",
              "      <td>31.275000</td>\n",
              "      <td>256.000000</td>\n",
              "    </tr>\n",
              "    <tr>\n",
              "      <th>max</th>\n",
              "      <td>3.000000</td>\n",
              "      <td>1.000000</td>\n",
              "      <td>80.000000</td>\n",
              "      <td>8.000000</td>\n",
              "      <td>9.000000</td>\n",
              "      <td>512.329200</td>\n",
              "      <td>328.000000</td>\n",
              "    </tr>\n",
              "  </tbody>\n",
              "</table>\n",
              "</div>"
            ],
            "text/plain": [
              "            pclass     survived  ...         fare        body\n",
              "count  1309.000000  1309.000000  ...  1308.000000  121.000000\n",
              "mean      2.294882     0.381971  ...    33.295479  160.809917\n",
              "std       0.837836     0.486055  ...    51.758668   97.696922\n",
              "min       1.000000     0.000000  ...     0.000000    1.000000\n",
              "25%       2.000000     0.000000  ...     7.895800   72.000000\n",
              "50%       3.000000     0.000000  ...    14.454200  155.000000\n",
              "75%       3.000000     1.000000  ...    31.275000  256.000000\n",
              "max       3.000000     1.000000  ...   512.329200  328.000000\n",
              "\n",
              "[8 rows x 7 columns]"
            ]
          },
          "metadata": {
            "tags": []
          },
          "execution_count": 108
        }
      ]
    },
    {
      "cell_type": "markdown",
      "metadata": {
        "id": "nz3Qf11WqVw7"
      },
      "source": [
        "###Exploration \n",
        "ici on dresser un tableau hist pour explorer la column \"age\""
      ]
    },
    {
      "cell_type": "code",
      "metadata": {
        "id": "VfWiDrEFekVi",
        "outputId": "d23708d6-199e-479d-ebd4-7c42bb111a36",
        "colab": {
          "base_uri": "https://localhost:8080/"
        }
      },
      "source": [
        "df.age.hist(bins=20)"
      ],
      "execution_count": null,
      "outputs": [
        {
          "output_type": "execute_result",
          "data": {
            "text/plain": [
              "<matplotlib.axes._subplots.AxesSubplot at 0x7f76cd728898>"
            ]
          },
          "metadata": {
            "tags": []
          },
          "execution_count": 109
        },
        {
          "output_type": "display_data",
          "data": {
            "image/png": "[encoded data removed]",
            "text/plain": [
              "<Figure size 432x288 with 1 Axes>"
            ]
          },
          "metadata": {
            "tags": []
          }
        }
      ]
    },
    {
      "cell_type": "markdown",
      "metadata": {
        "id": "D32rEX-OqeLU"
      },
      "source": [
        "###Exploration \n",
        "ici on dresser un tableau hist pour explorer la column \"sex\""
      ]
    },
    {
      "cell_type": "code",
      "metadata": {
        "id": "O1yADvulgUiJ",
        "outputId": "22ee6746-e320-490b-999d-512e95867b6e",
        "colab": {
          "base_uri": "https://localhost:8080/"
        }
      },
      "source": [
        "df.sex.value_counts().plot(kind='barh')"
      ],
      "execution_count": null,
      "outputs": [
        {
          "output_type": "execute_result",
          "data": {
            "text/plain": [
              "<matplotlib.axes._subplots.AxesSubplot at 0x7f76cdb5a6a0>"
            ]
          },
          "metadata": {
            "tags": []
          },
          "execution_count": 110
        },
        {
          "output_type": "display_data",
          "data": {
            "image/png": "[encoded data removed]",
            "text/plain": [
              "<Figure size 432x288 with 1 Axes>"
            ]
          },
          "metadata": {
            "tags": []
          }
        }
      ]
    },
    {
      "cell_type": "markdown",
      "metadata": {
        "id": "eNau0fFLqkZE"
      },
      "source": [
        "###Exploration \n",
        "ici on dresser un tableau hist pour explorer la column \"pclass\""
      ]
    },
    {
      "cell_type": "code",
      "metadata": {
        "id": "YrhoWbvsg70a",
        "outputId": "fffd0d61-647e-4c8a-fe63-e20341760485",
        "colab": {
          "base_uri": "https://localhost:8080/"
        }
      },
      "source": [
        "df.pclass.value_counts().plot(kind='barh')"
      ],
      "execution_count": null,
      "outputs": [
        {
          "output_type": "execute_result",
          "data": {
            "text/plain": [
              "<matplotlib.axes._subplots.AxesSubplot at 0x7f76cda5beb8>"
            ]
          },
          "metadata": {
            "tags": []
          },
          "execution_count": 111
        },
        {
          "output_type": "display_data",
          "data": {
            "image/png": "[encoded data removed]",
            "text/plain": [
              "<Figure size 432x288 with 1 Axes>"
            ]
          },
          "metadata": {
            "tags": []
          }
        }
      ]
    },
    {
      "cell_type": "markdown",
      "metadata": {
        "id": "1HPaYQrdqyDX"
      },
      "source": [
        "#Exploration selon l'indice de survie\n",
        "\n",
        "On va esplorer les données qu'on a en appliquant des commandes qui permettent l'exploration selon l'indice de survie"
      ]
    },
    {
      "cell_type": "code",
      "metadata": {
        "id": "kvQhxzi3vxUY",
        "outputId": "25c8463c-1d90-41e5-93ea-6bdf39ace8f1",
        "colab": {
          "base_uri": "https://localhost:8080/"
        }
      },
      "source": [
        "FacetGrid = sns.FacetGrid(df, row='embarked', size=4.5, aspect=1.6)\n",
        "FacetGrid.map(sns.pointplot, 'pclass', 'survived', 'sex', palette=None,  order=None, hue_order=None )\n",
        "FacetGrid.add_legend()"
      ],
      "execution_count": null,
      "outputs": [
        {
          "output_type": "stream",
          "text": [
            "/usr/local/lib/python3.6/dist-packages/seaborn/axisgrid.py:243: UserWarning: The `size` parameter has been renamed to `height`; please update your code.\n",
            "  warnings.warn(msg, UserWarning)\n"
          ],
          "name": "stderr"
        },
        {
          "output_type": "execute_result",
          "data": {
            "text/plain": [
              "<seaborn.axisgrid.FacetGrid at 0x7f76cdc2b470>"
            ]
          },
          "metadata": {
            "tags": []
          },
          "execution_count": 112
        },
        {
          "output_type": "display_data",
          "data": {
            "image/png": "[encoded data removed]",
            "text/plain": [
              "<Figure size 588.9x972 with 3 Axes>"
            ]
          },
          "metadata": {
            "tags": []
          }
        }
      ]
    },
    {
      "cell_type": "code",
      "metadata": {
        "id": "GrPO1b3lxeev",
        "outputId": "59207616-7551-45ab-90da-412a44128e53",
        "colab": {
          "base_uri": "https://localhost:8080/"
        }
      },
      "source": [
        "survived = 'survived'\n",
        "not_survived = 'not survived'\n",
        "fig, axes = plt.subplots(nrows=1, ncols=2,figsize=(10, 4))\n",
        "women = df[df['sex']=='female']\n",
        "men = df[df['sex']=='male']\n",
        "ax = sns.distplot(women[women['survived']==1].age.dropna(), bins=18, label = survived, ax = axes[0], kde =False)\n",
        "ax = sns.distplot(women[women['survived']==0].age.dropna(), bins=40, label = not_survived, ax = axes[0], kde =False)\n",
        "ax.legend()\n",
        "ax.set_title('Female')\n",
        "ax = sns.distplot(men[men['survived']==1].age.dropna(), bins=18, label = survived, ax = axes[1], kde = False)\n",
        "ax = sns.distplot(men[men['survived']==0].age.dropna(), bins=40, label = not_survived, ax = axes[1], kde = False)\n",
        "ax.legend()\n",
        "_ = ax.set_title('Male')"
      ],
      "execution_count": null,
      "outputs": [
        {
          "output_type": "display_data",
          "data": {
            "image/png": "[encoded data removed]",
            "text/plain": [
              "<Figure size 720x288 with 2 Axes>"
            ]
          },
          "metadata": {
            "tags": []
          }
        }
      ]
    },
    {
      "cell_type": "code",
      "metadata": {
        "id": "hTQ0thI65VMG",
        "outputId": "15dfb079-f360-4b85-e135-7390334627f1",
        "colab": {
          "base_uri": "https://localhost:8080/"
        }
      },
      "source": [
        "#Now we plot the number of survivors \n",
        "sns.set_style('whitegrid')\n",
        "sns.countplot(x='survived',data=df,palette='RdBu_r')"
      ],
      "execution_count": null,
      "outputs": [
        {
          "output_type": "execute_result",
          "data": {
            "text/plain": [
              "<matplotlib.axes._subplots.AxesSubplot at 0x7f76cc1590f0>"
            ]
          },
          "metadata": {
            "tags": []
          },
          "execution_count": 114
        },
        {
          "output_type": "display_data",
          "data": {
            "image/png": "[encoded data removed]",
            "text/plain": [
              "<Figure size 432x288 with 1 Axes>"
            ]
          },
          "metadata": {
            "tags": []
          }
        }
      ]
    },
    {
      "cell_type": "code",
      "metadata": {
        "id": "UUDrglZ6yYXP",
        "outputId": "3e540108-9cc1-4d87-ac8b-58b81f63769c",
        "colab": {
          "base_uri": "https://localhost:8080/"
        }
      },
      "source": [
        "sns.barplot(x='pclass', y='survived', data=df)"
      ],
      "execution_count": null,
      "outputs": [
        {
          "output_type": "execute_result",
          "data": {
            "text/plain": [
              "<matplotlib.axes._subplots.AxesSubplot at 0x7f76cbf7c9e8>"
            ]
          },
          "metadata": {
            "tags": []
          },
          "execution_count": 115
        },
        {
          "output_type": "display_data",
          "data": {
            "image/png": "[encoded data removed]",
            "text/plain": [
              "<Figure size 432x288 with 1 Axes>"
            ]
          },
          "metadata": {
            "tags": []
          }
        }
      ]
    },
    {
      "cell_type": "markdown",
      "metadata": {
        "id": "VvJm7D7JqnqV"
      },
      "source": [
        "#Partie exploitation et dressage de notre Y\n",
        "\n",
        "\n",
        "\n"
      ]
    },
    {
      "cell_type": "code",
      "metadata": {
        "id": "4CzEC-5EjxsM",
        "outputId": "5d142a88-1278-4da2-9bb8-8fa6835fe37a",
        "colab": {
          "base_uri": "https://localhost:8080/"
        }
      },
      "source": [
        "y = df.pop(\"survived\")\n",
        "df.head() "
      ],
      "execution_count": null,
      "outputs": [
        {
          "output_type": "execute_result",
          "data": {
            "text/html": [
              "<div>\n",
              "<style scoped>\n",
              "    .dataframe tbody tr th:only-of-type {\n",
              "        vertical-align: middle;\n",
              "    }\n",
              "\n",
              "    .dataframe tbody tr th {\n",
              "        vertical-align: top;\n",
              "    }\n",
              "\n",
              "    .dataframe thead th {\n",
              "        text-align: right;\n",
              "    }\n",
              "</style>\n",
              "<table border=\"1\" class=\"dataframe\">\n",
              "  <thead>\n",
              "    <tr style=\"text-align: right;\">\n",
              "      <th></th>\n",
              "      <th>pclass</th>\n",
              "      <th>name</th>\n",
              "      <th>sex</th>\n",
              "      <th>age</th>\n",
              "      <th>sibsp</th>\n",
              "      <th>parch</th>\n",
              "      <th>ticket</th>\n",
              "      <th>fare</th>\n",
              "      <th>cabin</th>\n",
              "      <th>embarked</th>\n",
              "      <th>boat</th>\n",
              "      <th>body</th>\n",
              "      <th>home.dest</th>\n",
              "    </tr>\n",
              "  </thead>\n",
              "  <tbody>\n",
              "    <tr>\n",
              "      <th>0</th>\n",
              "      <td>1</td>\n",
              "      <td>Allen, Miss. Elisabeth Walton</td>\n",
              "      <td>female</td>\n",
              "      <td>29.00</td>\n",
              "      <td>0</td>\n",
              "      <td>0</td>\n",
              "      <td>24160</td>\n",
              "      <td>211.3375</td>\n",
              "      <td>B5</td>\n",
              "      <td>S</td>\n",
              "      <td>2</td>\n",
              "      <td>NaN</td>\n",
              "      <td>St Louis, MO</td>\n",
              "    </tr>\n",
              "    <tr>\n",
              "      <th>1</th>\n",
              "      <td>1</td>\n",
              "      <td>Allison, Master. Hudson Trevor</td>\n",
              "      <td>male</td>\n",
              "      <td>0.92</td>\n",
              "      <td>1</td>\n",
              "      <td>2</td>\n",
              "      <td>113781</td>\n",
              "      <td>151.5500</td>\n",
              "      <td>C22 C26</td>\n",
              "      <td>S</td>\n",
              "      <td>11</td>\n",
              "      <td>NaN</td>\n",
              "      <td>Montreal, PQ / Chesterville, ON</td>\n",
              "    </tr>\n",
              "    <tr>\n",
              "      <th>2</th>\n",
              "      <td>1</td>\n",
              "      <td>Allison, Miss. Helen Loraine</td>\n",
              "      <td>female</td>\n",
              "      <td>2.00</td>\n",
              "      <td>1</td>\n",
              "      <td>2</td>\n",
              "      <td>113781</td>\n",
              "      <td>151.5500</td>\n",
              "      <td>C22 C26</td>\n",
              "      <td>S</td>\n",
              "      <td>NaN</td>\n",
              "      <td>NaN</td>\n",
              "      <td>Montreal, PQ / Chesterville, ON</td>\n",
              "    </tr>\n",
              "    <tr>\n",
              "      <th>3</th>\n",
              "      <td>1</td>\n",
              "      <td>Allison, Mr. Hudson Joshua Creighton</td>\n",
              "      <td>male</td>\n",
              "      <td>30.00</td>\n",
              "      <td>1</td>\n",
              "      <td>2</td>\n",
              "      <td>113781</td>\n",
              "      <td>151.5500</td>\n",
              "      <td>C22 C26</td>\n",
              "      <td>S</td>\n",
              "      <td>NaN</td>\n",
              "      <td>135.0</td>\n",
              "      <td>Montreal, PQ / Chesterville, ON</td>\n",
              "    </tr>\n",
              "    <tr>\n",
              "      <th>4</th>\n",
              "      <td>1</td>\n",
              "      <td>Allison, Mrs. Hudson J C (Bessie Waldo Daniels)</td>\n",
              "      <td>female</td>\n",
              "      <td>25.00</td>\n",
              "      <td>1</td>\n",
              "      <td>2</td>\n",
              "      <td>113781</td>\n",
              "      <td>151.5500</td>\n",
              "      <td>C22 C26</td>\n",
              "      <td>S</td>\n",
              "      <td>NaN</td>\n",
              "      <td>NaN</td>\n",
              "      <td>Montreal, PQ / Chesterville, ON</td>\n",
              "    </tr>\n",
              "  </tbody>\n",
              "</table>\n",
              "</div>"
            ],
            "text/plain": [
              "   pclass  ...                        home.dest\n",
              "0       1  ...                     St Louis, MO\n",
              "1       1  ...  Montreal, PQ / Chesterville, ON\n",
              "2       1  ...  Montreal, PQ / Chesterville, ON\n",
              "3       1  ...  Montreal, PQ / Chesterville, ON\n",
              "4       1  ...  Montreal, PQ / Chesterville, ON\n",
              "\n",
              "[5 rows x 13 columns]"
            ]
          },
          "metadata": {
            "tags": []
          },
          "execution_count": 116
        }
      ]
    },
    {
      "cell_type": "markdown",
      "metadata": {
        "id": "b_sUaQm_r82_"
      },
      "source": [
        "#Séparation des axes x,y selon train, test"
      ]
    },
    {
      "cell_type": "code",
      "metadata": {
        "id": "mLycUCjej6K-",
        "outputId": "f99979d4-337d-4dbf-c9f3-0f8d0fd2d475",
        "colab": {
          "base_uri": "https://localhost:8080/"
        }
      },
      "source": [
        "x_train, x_test, y_train, y_test = train_test_split(df, y , test_size=0.1)\n",
        "type(x_train)"
      ],
      "execution_count": null,
      "outputs": [
        {
          "output_type": "execute_result",
          "data": {
            "text/plain": [
              "pandas.core.frame.DataFrame"
            ]
          },
          "metadata": {
            "tags": []
          },
          "execution_count": 117
        }
      ]
    },
    {
      "cell_type": "markdown",
      "metadata": {
        "id": "CtuKxlbxsJSd"
      },
      "source": [
        "##affichage de l'axe train"
      ]
    },
    {
      "cell_type": "code",
      "metadata": {
        "id": "kUNVvZWelRP7",
        "outputId": "4ce3610d-66f9-498c-b918-cda74989293a",
        "colab": {
          "base_uri": "https://localhost:8080/"
        }
      },
      "source": [
        "x_train.head() "
      ],
      "execution_count": null,
      "outputs": [
        {
          "output_type": "execute_result",
          "data": {
            "text/html": [
              "<div>\n",
              "<style scoped>\n",
              "    .dataframe tbody tr th:only-of-type {\n",
              "        vertical-align: middle;\n",
              "    }\n",
              "\n",
              "    .dataframe tbody tr th {\n",
              "        vertical-align: top;\n",
              "    }\n",
              "\n",
              "    .dataframe thead th {\n",
              "        text-align: right;\n",
              "    }\n",
              "</style>\n",
              "<table border=\"1\" class=\"dataframe\">\n",
              "  <thead>\n",
              "    <tr style=\"text-align: right;\">\n",
              "      <th></th>\n",
              "      <th>pclass</th>\n",
              "      <th>name</th>\n",
              "      <th>sex</th>\n",
              "      <th>age</th>\n",
              "      <th>sibsp</th>\n",
              "      <th>parch</th>\n",
              "      <th>ticket</th>\n",
              "      <th>fare</th>\n",
              "      <th>cabin</th>\n",
              "      <th>embarked</th>\n",
              "      <th>boat</th>\n",
              "      <th>body</th>\n",
              "      <th>home.dest</th>\n",
              "    </tr>\n",
              "  </thead>\n",
              "  <tbody>\n",
              "    <tr>\n",
              "      <th>1279</th>\n",
              "      <td>3</td>\n",
              "      <td>Vestrom, Miss. Hulda Amanda Adolfina</td>\n",
              "      <td>female</td>\n",
              "      <td>14.0</td>\n",
              "      <td>0</td>\n",
              "      <td>0</td>\n",
              "      <td>350406</td>\n",
              "      <td>7.8542</td>\n",
              "      <td>NaN</td>\n",
              "      <td>S</td>\n",
              "      <td>NaN</td>\n",
              "      <td>NaN</td>\n",
              "      <td>NaN</td>\n",
              "    </tr>\n",
              "    <tr>\n",
              "      <th>723</th>\n",
              "      <td>3</td>\n",
              "      <td>Conlon, Mr. Thomas Henry</td>\n",
              "      <td>male</td>\n",
              "      <td>31.0</td>\n",
              "      <td>0</td>\n",
              "      <td>0</td>\n",
              "      <td>21332</td>\n",
              "      <td>7.7333</td>\n",
              "      <td>NaN</td>\n",
              "      <td>Q</td>\n",
              "      <td>NaN</td>\n",
              "      <td>NaN</td>\n",
              "      <td>Philadelphia, PA</td>\n",
              "    </tr>\n",
              "    <tr>\n",
              "      <th>528</th>\n",
              "      <td>2</td>\n",
              "      <td>Parkes, Mr. Francis \"Frank\"</td>\n",
              "      <td>male</td>\n",
              "      <td>NaN</td>\n",
              "      <td>0</td>\n",
              "      <td>0</td>\n",
              "      <td>239853</td>\n",
              "      <td>0.0000</td>\n",
              "      <td>NaN</td>\n",
              "      <td>S</td>\n",
              "      <td>NaN</td>\n",
              "      <td>NaN</td>\n",
              "      <td>Belfast</td>\n",
              "    </tr>\n",
              "    <tr>\n",
              "      <th>610</th>\n",
              "      <td>3</td>\n",
              "      <td>Ahlin, Mrs. Johan (Johanna Persdotter Larsson)</td>\n",
              "      <td>female</td>\n",
              "      <td>40.0</td>\n",
              "      <td>1</td>\n",
              "      <td>0</td>\n",
              "      <td>7546</td>\n",
              "      <td>9.4750</td>\n",
              "      <td>NaN</td>\n",
              "      <td>S</td>\n",
              "      <td>NaN</td>\n",
              "      <td>NaN</td>\n",
              "      <td>Sweden Akeley, MN</td>\n",
              "    </tr>\n",
              "    <tr>\n",
              "      <th>1093</th>\n",
              "      <td>3</td>\n",
              "      <td>Osen, Mr. Olaf Elon</td>\n",
              "      <td>male</td>\n",
              "      <td>16.0</td>\n",
              "      <td>0</td>\n",
              "      <td>0</td>\n",
              "      <td>7534</td>\n",
              "      <td>9.2167</td>\n",
              "      <td>NaN</td>\n",
              "      <td>S</td>\n",
              "      <td>NaN</td>\n",
              "      <td>NaN</td>\n",
              "      <td>NaN</td>\n",
              "    </tr>\n",
              "  </tbody>\n",
              "</table>\n",
              "</div>"
            ],
            "text/plain": [
              "      pclass  ...          home.dest\n",
              "1279       3  ...                NaN\n",
              "723        3  ...   Philadelphia, PA\n",
              "528        2  ...            Belfast\n",
              "610        3  ...  Sweden Akeley, MN\n",
              "1093       3  ...                NaN\n",
              "\n",
              "[5 rows x 13 columns]"
            ]
          },
          "metadata": {
            "tags": []
          },
          "execution_count": 118
        }
      ]
    },
    {
      "cell_type": "code",
      "metadata": {
        "id": "3wxc4bc11I2X",
        "outputId": "47f27ba6-96ff-40c5-c2e7-086f279ff607",
        "colab": {
          "base_uri": "https://localhost:8080/"
        }
      },
      "source": [
        "x_test.head()"
      ],
      "execution_count": null,
      "outputs": [
        {
          "output_type": "execute_result",
          "data": {
            "text/html": [
              "<div>\n",
              "<style scoped>\n",
              "    .dataframe tbody tr th:only-of-type {\n",
              "        vertical-align: middle;\n",
              "    }\n",
              "\n",
              "    .dataframe tbody tr th {\n",
              "        vertical-align: top;\n",
              "    }\n",
              "\n",
              "    .dataframe thead th {\n",
              "        text-align: right;\n",
              "    }\n",
              "</style>\n",
              "<table border=\"1\" class=\"dataframe\">\n",
              "  <thead>\n",
              "    <tr style=\"text-align: right;\">\n",
              "      <th></th>\n",
              "      <th>pclass</th>\n",
              "      <th>name</th>\n",
              "      <th>sex</th>\n",
              "      <th>age</th>\n",
              "      <th>sibsp</th>\n",
              "      <th>parch</th>\n",
              "      <th>ticket</th>\n",
              "      <th>fare</th>\n",
              "      <th>cabin</th>\n",
              "      <th>embarked</th>\n",
              "      <th>boat</th>\n",
              "      <th>body</th>\n",
              "      <th>home.dest</th>\n",
              "    </tr>\n",
              "  </thead>\n",
              "  <tbody>\n",
              "    <tr>\n",
              "      <th>673</th>\n",
              "      <td>3</td>\n",
              "      <td>Betros, Mr. Tannous</td>\n",
              "      <td>male</td>\n",
              "      <td>20.0</td>\n",
              "      <td>0</td>\n",
              "      <td>0</td>\n",
              "      <td>2648</td>\n",
              "      <td>4.0125</td>\n",
              "      <td>NaN</td>\n",
              "      <td>C</td>\n",
              "      <td>NaN</td>\n",
              "      <td>NaN</td>\n",
              "      <td>Syria</td>\n",
              "    </tr>\n",
              "    <tr>\n",
              "      <th>1181</th>\n",
              "      <td>3</td>\n",
              "      <td>Salander, Mr. Karl Johan</td>\n",
              "      <td>male</td>\n",
              "      <td>24.0</td>\n",
              "      <td>0</td>\n",
              "      <td>0</td>\n",
              "      <td>7266</td>\n",
              "      <td>9.3250</td>\n",
              "      <td>NaN</td>\n",
              "      <td>S</td>\n",
              "      <td>NaN</td>\n",
              "      <td>NaN</td>\n",
              "      <td>NaN</td>\n",
              "    </tr>\n",
              "    <tr>\n",
              "      <th>925</th>\n",
              "      <td>3</td>\n",
              "      <td>Kelly, Mr. James</td>\n",
              "      <td>male</td>\n",
              "      <td>44.0</td>\n",
              "      <td>0</td>\n",
              "      <td>0</td>\n",
              "      <td>363592</td>\n",
              "      <td>8.0500</td>\n",
              "      <td>NaN</td>\n",
              "      <td>S</td>\n",
              "      <td>NaN</td>\n",
              "      <td>NaN</td>\n",
              "      <td>NaN</td>\n",
              "    </tr>\n",
              "    <tr>\n",
              "      <th>1106</th>\n",
              "      <td>3</td>\n",
              "      <td>Panula, Mrs. Juha (Maria Emilia Ojala)</td>\n",
              "      <td>female</td>\n",
              "      <td>41.0</td>\n",
              "      <td>0</td>\n",
              "      <td>5</td>\n",
              "      <td>3101295</td>\n",
              "      <td>39.6875</td>\n",
              "      <td>NaN</td>\n",
              "      <td>S</td>\n",
              "      <td>NaN</td>\n",
              "      <td>NaN</td>\n",
              "      <td>NaN</td>\n",
              "    </tr>\n",
              "    <tr>\n",
              "      <th>605</th>\n",
              "      <td>3</td>\n",
              "      <td>Abelseth, Mr. Olaus Jorgensen</td>\n",
              "      <td>male</td>\n",
              "      <td>25.0</td>\n",
              "      <td>0</td>\n",
              "      <td>0</td>\n",
              "      <td>348122</td>\n",
              "      <td>7.6500</td>\n",
              "      <td>F G63</td>\n",
              "      <td>S</td>\n",
              "      <td>A</td>\n",
              "      <td>NaN</td>\n",
              "      <td>Perkins County, SD</td>\n",
              "    </tr>\n",
              "  </tbody>\n",
              "</table>\n",
              "</div>"
            ],
            "text/plain": [
              "      pclass                                    name  ... body           home.dest\n",
              "673        3                     Betros, Mr. Tannous  ...  NaN               Syria\n",
              "1181       3                Salander, Mr. Karl Johan  ...  NaN                 NaN\n",
              "925        3                        Kelly, Mr. James  ...  NaN                 NaN\n",
              "1106       3  Panula, Mrs. Juha (Maria Emilia Ojala)  ...  NaN                 NaN\n",
              "605        3           Abelseth, Mr. Olaus Jorgensen  ...  NaN  Perkins County, SD\n",
              "\n",
              "[5 rows x 13 columns]"
            ]
          },
          "metadata": {
            "tags": []
          },
          "execution_count": 119
        }
      ]
    },
    {
      "cell_type": "markdown",
      "metadata": {
        "id": "AJhgsANNsOUD"
      },
      "source": [
        "#Information sur x_Train\n",
        "\n",
        "On verifie si notre séparation est bien fonctionnel"
      ]
    },
    {
      "cell_type": "code",
      "metadata": {
        "id": "IZH8g-uIrLY2",
        "outputId": "f1a862e1-4d63-4b3a-d65b-518a558e5802",
        "colab": {
          "base_uri": "https://localhost:8080/",
          "height": 353
        }
      },
      "source": [
        "x_train.info()"
      ],
      "execution_count": null,
      "outputs": [
        {
          "output_type": "stream",
          "text": [
            "<class 'pandas.core.frame.DataFrame'>\n",
            "Int64Index: 1178 entries, 1279 to 734\n",
            "Data columns (total 13 columns):\n",
            " #   Column     Non-Null Count  Dtype  \n",
            "---  ------     --------------  -----  \n",
            " 0   pclass     1178 non-null   int64  \n",
            " 1   name       1178 non-null   object \n",
            " 2   sex        1178 non-null   object \n",
            " 3   age        943 non-null    float64\n",
            " 4   sibsp      1178 non-null   int64  \n",
            " 5   parch      1178 non-null   int64  \n",
            " 6   ticket     1178 non-null   object \n",
            " 7   fare       1177 non-null   float64\n",
            " 8   cabin      264 non-null    object \n",
            " 9   embarked   1176 non-null   object \n",
            " 10  boat       430 non-null    object \n",
            " 11  body       114 non-null    float64\n",
            " 12  home.dest  678 non-null    object \n",
            "dtypes: float64(3), int64(3), object(7)\n",
            "memory usage: 128.8+ KB\n"
          ],
          "name": "stdout"
        }
      ]
    },
    {
      "cell_type": "markdown",
      "metadata": {
        "id": "nGhtsc3isSM7"
      },
      "source": [
        "###Ici on va dresser le shape de notre axe X "
      ]
    },
    {
      "cell_type": "code",
      "metadata": {
        "id": "6NtYBJmplaEY",
        "outputId": "2e9de9a0-f9d9-471d-8ffa-5219445f7e97",
        "colab": {
          "base_uri": "https://localhost:8080/",
          "height": 50
        }
      },
      "source": [
        "print(x_train.shape)\n",
        "print(x_test.shape)"
      ],
      "execution_count": null,
      "outputs": [
        {
          "output_type": "stream",
          "text": [
            "(1178, 13)\n",
            "(131, 13)\n"
          ],
          "name": "stdout"
        }
      ]
    },
    {
      "cell_type": "markdown",
      "metadata": {
        "id": "B6XajjU1A3wL"
      },
      "source": [
        "#Tranformation des columns\n",
        "on va appliquer la methode du column transformer on va commencer par importer la bibliothéque pour la création des pipelines puis on va faire les réparations sur les données\n"
      ]
    },
    {
      "cell_type": "markdown",
      "metadata": {
        "id": "XcZB5L9bBufS"
      },
      "source": [
        "##Importation des Bibliothéques"
      ]
    },
    {
      "cell_type": "code",
      "metadata": {
        "id": "YjW8q5BqBq27"
      },
      "source": [
        "from sklearn.compose import ColumnTransformer\n",
        "from sklearn.pipeline import Pipeline\n",
        "from sklearn.impute import SimpleImputer\n",
        "from sklearn.preprocessing import OneHotEncoder, StandardScaler"
      ],
      "execution_count": null,
      "outputs": []
    },
    {
      "cell_type": "markdown",
      "metadata": {
        "id": "w7wi08CcBzEY"
      },
      "source": [
        "##création des pipelines"
      ]
    },
    {
      "cell_type": "code",
      "metadata": {
        "id": "klejeqZ_B6rt"
      },
      "source": [
        "numeric_features = ['age', 'fare']\n",
        "numeric_transformer = Pipeline(steps=[\n",
        "    ('imputer', SimpleImputer(strategy='median')),\n",
        "    ('scaler', StandardScaler())\n",
        "])\n",
        "\n",
        "categorical_features = ['pclass', 'sex', 'sibsp', 'parch', 'embarked', 'cabin','boat']\n",
        "categorical_transformer = Pipeline(steps=[\n",
        "    #('imputer', SimpleImputer(strategy='constant', fill_value='missing')),\n",
        "    ('imputer', SimpleImputer(strategy='most_frequent')),\n",
        "    ('onehot', OneHotEncoder(handle_unknown='ignore'))\n",
        "])"
      ],
      "execution_count": null,
      "outputs": []
    },
    {
      "cell_type": "markdown",
      "metadata": {
        "id": "STe5Ilhk8M2h"
      },
      "source": [
        "## Apply ColumnTransformer"
      ]
    },
    {
      "cell_type": "code",
      "metadata": {
        "id": "t74_cj3P8M2i"
      },
      "source": [
        "preprocessor = ColumnTransformer(transformers=[\n",
        "    ('num', numeric_transformer, numeric_features),\n",
        "    ('cat', categorical_transformer, categorical_features)\n",
        "])\n",
        "#"
      ],
      "execution_count": null,
      "outputs": []
    },
    {
      "cell_type": "markdown",
      "metadata": {
        "id": "L2XA9whS2eiP"
      },
      "source": [
        "#La partie d'exploitation de nos données a été faites on va commencer la partie machine learning avec les algorithme suivant : \n",
        "\n",
        "- k-NN classifier\n",
        "- Support Vector Machine classifier.\n",
        "- Linear Discriminant Analysis classifier.\n",
        "- Logistic Regression classifier\n",
        "- Decision Tree classifier\n",
        "- Voting Classifier using the previous algorithms\n",
        "- Random Forest classifier.\n",
        "- Gradient Boosting classifier\n",
        "-  AdaBoost classifier\n"
      ]
    },
    {
      "cell_type": "code",
      "metadata": {
        "id": "RTFJ4Pex1gws"
      },
      "source": [
        "y_train.head()"
      ],
      "execution_count": null,
      "outputs": []
    },
    {
      "cell_type": "markdown",
      "metadata": {
        "id": "XY8xIhpF0Ym9"
      },
      "source": [
        "##k-NN classifier "
      ]
    },
    {
      "cell_type": "code",
      "metadata": {
        "id": "YBK7qaPdvbkh"
      },
      "source": [
        "from sklearn.neighbors import KNeighborsClassifier\n",
        "from sklearn import metrics\n",
        "\n",
        "\n",
        "KN = Pipeline(steps=[\n",
        "    ('preprocessor', preprocessor),\n",
        "    ('knn', KNeighborsClassifier(n_neighbors=3, algorithm='brute'))\n",
        "])\n",
        "\n",
        "\n",
        "\n",
        "KN.fit(x_train, y_train)\n",
        "print(metrics.classification_report(KN.predict(x_test), y_test))\n",
        "print(metrics.confusion_matrix(KN.predict(x_test), y_test))"
      ],
      "execution_count": null,
      "outputs": []
    },
    {
      "cell_type": "markdown",
      "metadata": {
        "id": "S96AcSnPAQpN"
      },
      "source": [
        "##Voting classifier\n",
        "\n",
        "Dans le voting classifier on va combiner des classificateurs d'apprentissage machine conceptuellement et utiliser un vote soft \n",
        "\n",
        "le VotingClassifier (avec vote = «dur») classerait l'échantillon comme «classe 1» sur la base de l'étiquette de classe majoritaire.\n",
        "Dans le cas d'une égalité, le VotingClassifier sélectionnera la classe en fonction de l'ordre de tri croissant\n",
        "\n",
        "\n"
      ]
    },
    {
      "cell_type": "code",
      "metadata": {
        "id": "JBZEnBrlMDeN"
      },
      "source": [
        "from sklearn.ensemble import VotingClassifier\n",
        "\n",
        "VC =  VotingClassifier(estimators=[('kn', KN), ('svc', svc), ('lr', LR), ('dtc', DTC)])\n",
        "\n",
        "VC.fit(x_train, y_train)\n",
        "print(metrics.classification_report(VC.predict(x_test), y_test))\n",
        "print(metrics.confusion_matrix(VC.predict(x_test), y_test))"
      ],
      "execution_count": null,
      "outputs": []
    },
    {
      "cell_type": "markdown",
      "metadata": {
        "id": "KC6FTHLwyiO-"
      },
      "source": [
        "##random forest"
      ]
    },
    {
      "cell_type": "code",
      "metadata": {
        "id": "Oz_wcUDxynOP"
      },
      "source": [
        "from sklearn.ensemble import RandomForestClassifier\n",
        "\n",
        "RFC = Pipeline(steps=[\n",
        "    ('preprocessor', preprocessor),\n",
        "    ('rfc', RandomForestClassifier(max_depth = 3, random_state = 0))\n",
        "])\n",
        "\n",
        "RFC.fit(x_train, y_train)\n",
        "print(metrics.classification_report(RFC.predict(x_test), y_test))\n",
        "print(metrics.confusion_matrix(RFC.predict(x_test), y_test))\n"
      ],
      "execution_count": null,
      "outputs": []
    },
    {
      "cell_type": "markdown",
      "metadata": {
        "id": "16TvkHJIzQM5"
      },
      "source": [
        "##Logistic Regression"
      ]
    },
    {
      "cell_type": "code",
      "metadata": {
        "id": "_r9R6bvUzVwj"
      },
      "source": [
        "from sklearn.linear_model import LogisticRegression\n",
        "\n",
        "LR = Pipeline(steps=[\n",
        "    ('preprocessor', preprocessor),\n",
        "    ('lr', LogisticRegression(solver='lbfgs'))\n",
        "])\n",
        "\n",
        "LR.fit(x_train, y_train)\n",
        "print(metrics.classification_report(LR.predict(x_test), y_test))\n",
        "print(metrics.confusion_matrix(LR.predict(x_test), y_test))"
      ],
      "execution_count": null,
      "outputs": []
    },
    {
      "cell_type": "markdown",
      "metadata": {
        "id": "07oQvxEt0CFQ"
      },
      "source": [
        "##Decision Tree"
      ]
    },
    {
      "cell_type": "code",
      "metadata": {
        "id": "mhiSO9mu0JR0"
      },
      "source": [
        "from sklearn.tree import DecisionTreeClassifier\n",
        "from sklearn import tree\n",
        "\n",
        "DTC = Pipeline(steps=[\n",
        "    ('preprocessor', preprocessor),\n",
        "    ('dtc', DecisionTreeClassifier(max_depth = 3, random_state = 0))\n",
        "])\n",
        "\n",
        "DTC.fit(x_train, y_train)\n",
        "print(metrics.classification_report(DTC.predict(x_test), y_test))\n",
        "print(metrics.confusion_matrix(DTC.predict(x_test), y_test))"
      ],
      "execution_count": null,
      "outputs": []
    },
    {
      "cell_type": "markdown",
      "metadata": {
        "id": "m2Pam32f8M3F"
      },
      "source": [
        "##AdaBoost classifier"
      ]
    },
    {
      "cell_type": "code",
      "metadata": {
        "id": "sokJWJ1r8M3F",
        "outputId": "e3574074-da0e-4a0d-b298-85abfbfab05a"
      },
      "source": [
        "from sklearn.ensemble import AdaBoostClassifier\n",
        "\n",
        "ABC = Pipeline(steps=[\n",
        "    ('preprocessor', preprocessor),\n",
        "    ('abc', AdaBoostClassifier(random_state = 0))\n",
        "])\n",
        "\n",
        "ABC.fit(x_train, y_train)\n",
        "print(metrics.classification_report(ABC.predict(x_test), y_test))\n",
        "print(metrics.confusion_matrix(ABC.predict(x_test), y_test))"
      ],
      "execution_count": null,
      "outputs": [
        {
          "output_type": "stream",
          "text": [
            "              precision    recall  f1-score   support\n",
            "\n",
            "           0       0.99      0.95      0.97       261\n",
            "           1       0.91      0.98      0.95       132\n",
            "\n",
            "    accuracy                           0.96       393\n",
            "   macro avg       0.95      0.97      0.96       393\n",
            "weighted avg       0.96      0.96      0.96       393\n",
            "\n",
            "[[248  13]\n",
            " [  2 130]]\n"
          ],
          "name": "stdout"
        }
      ]
    },
    {
      "cell_type": "markdown",
      "metadata": {
        "id": "ZXkBQZ7Q3tqA"
      },
      "source": [
        "#comparaison des algorithme avec \n",
        "\n"
      ]
    },
    {
      "cell_type": "markdown",
      "metadata": {
        "id": "7gmchHpYHoKQ"
      },
      "source": [
        "\n",
        "##Methode 1\n",
        "\n",
        "\n",
        "``` Python\n",
        "\n",
        "results = pd.DataFrame({\n",
        "    'Model': ['Support Vector Machines', 'KNN', 'Logistic Regression', \n",
        "              'Random Forest', 'Naive Bayes', 'Perceptron', \n",
        "              'Stochastic Gradient Decent', \n",
        "              'Decision Tree'],\n",
        "    'Score': [acc_linear_svc, acc_knn, acc_log, \n",
        "              acc_random_forest, acc_gaussian, acc_perceptron, \n",
        "              acc_sgd, acc_decision_tree]})\n",
        "result_df = results.sort_values(by='Score', ascending=False)\n",
        "result_df = result_df.set_index('Score')\n",
        "result_df.head(9)\n",
        "\n",
        "```\n"
      ]
    },
    {
      "cell_type": "markdown",
      "metadata": {
        "id": "8Njm-QNY8M3H"
      },
      "source": [
        "##methode 2\n"
      ]
    },
    {
      "cell_type": "code",
      "metadata": {
        "id": "cZHJA4RI8M3H",
        "outputId": "dcec9003-f01e-4e32-cd37-08c2a6980014"
      },
      "source": [
        "models = []\n",
        "models.append((KN, 'KNeighborsClassifier'))\n",
        "models.append((svc, 'Super Vector Machine Classifier'))\n",
        "#models.append((LDA, 'Linear Discriminant Analysis Classifier'))\n",
        "models.append((LR, 'Logistic Regression classifier'))\n",
        "models.append((DTC, 'Decision Tree Classifier'))\n",
        "models.append((VC, 'Voting Classifier'))\n",
        "models.append((RFC, 'Random forest Classifier'))\n",
        "models.append((GBC, 'Gradient Boost Classifier'))\n",
        "models.append((ABC, 'AdaBoost classifier'))\n",
        "\n",
        "models_name = []\n",
        "prescisions = []\n",
        "recalls = []\n",
        "f1_scores = []\n",
        "\n",
        "i = 0\n",
        "\n",
        "for model, name in models:\n",
        "    models_name.append(name)\n",
        "    prescisions.append(metrics.precision_score(model.predict(x_test), y_test))\n",
        "    recalls.append(metrics.recall_score(model.predict(x_test), y_test))\n",
        "    f1_scores.append(metrics.f1_score(model.predict(x_test), y_test))\n",
        "    \n",
        "\n",
        "pdf = pd.DataFrame({\n",
        "    'Model': models_name,\n",
        "    'Precision' : prescisions,\n",
        "    'Recall' : recalls, \n",
        "    'F1 Score' : f1_scores\n",
        "})\n",
        "pdf.sort_values(by = 'Precision', ascending = False)"
      ],
      "execution_count": null,
      "outputs": [
        {
          "output_type": "execute_result",
          "data": {
            "text/html": [
              "<div>\n",
              "<style scoped>\n",
              "    .dataframe tbody tr th:only-of-type {\n",
              "        vertical-align: middle;\n",
              "    }\n",
              "\n",
              "    .dataframe tbody tr th {\n",
              "        vertical-align: top;\n",
              "    }\n",
              "\n",
              "    .dataframe thead th {\n",
              "        text-align: right;\n",
              "    }\n",
              "</style>\n",
              "<table border=\"1\" class=\"dataframe\">\n",
              "  <thead>\n",
              "    <tr style=\"text-align: right;\">\n",
              "      <th></th>\n",
              "      <th>Model</th>\n",
              "      <th>Precision</th>\n",
              "      <th>Recall</th>\n",
              "      <th>F1 Score</th>\n",
              "    </tr>\n",
              "  </thead>\n",
              "  <tbody>\n",
              "    <tr>\n",
              "      <th>6</th>\n",
              "      <td>Gradient Boost Classifier</td>\n",
              "      <td>0.916084</td>\n",
              "      <td>0.963235</td>\n",
              "      <td>0.939068</td>\n",
              "    </tr>\n",
              "    <tr>\n",
              "      <th>1</th>\n",
              "      <td>Super Vector Machine Classifier</td>\n",
              "      <td>0.909091</td>\n",
              "      <td>0.992366</td>\n",
              "      <td>0.948905</td>\n",
              "    </tr>\n",
              "    <tr>\n",
              "      <th>2</th>\n",
              "      <td>Logistic Regression classifier</td>\n",
              "      <td>0.909091</td>\n",
              "      <td>0.992366</td>\n",
              "      <td>0.948905</td>\n",
              "    </tr>\n",
              "    <tr>\n",
              "      <th>4</th>\n",
              "      <td>Voting Classifier</td>\n",
              "      <td>0.909091</td>\n",
              "      <td>0.992366</td>\n",
              "      <td>0.948905</td>\n",
              "    </tr>\n",
              "    <tr>\n",
              "      <th>7</th>\n",
              "      <td>AdaBoost classifier</td>\n",
              "      <td>0.909091</td>\n",
              "      <td>0.984848</td>\n",
              "      <td>0.945455</td>\n",
              "    </tr>\n",
              "    <tr>\n",
              "      <th>3</th>\n",
              "      <td>Decision Tree Classifier</td>\n",
              "      <td>0.902098</td>\n",
              "      <td>0.984733</td>\n",
              "      <td>0.941606</td>\n",
              "    </tr>\n",
              "    <tr>\n",
              "      <th>5</th>\n",
              "      <td>Random forest Classifier</td>\n",
              "      <td>0.818182</td>\n",
              "      <td>0.983193</td>\n",
              "      <td>0.893130</td>\n",
              "    </tr>\n",
              "    <tr>\n",
              "      <th>0</th>\n",
              "      <td>KNeighborsClassifier</td>\n",
              "      <td>0.811189</td>\n",
              "      <td>0.950820</td>\n",
              "      <td>0.875472</td>\n",
              "    </tr>\n",
              "  </tbody>\n",
              "</table>\n",
              "</div>"
            ],
            "text/plain": [
              "                             Model  Precision    Recall  F1 Score\n",
              "6        Gradient Boost Classifier   0.916084  0.963235  0.939068\n",
              "1  Super Vector Machine Classifier   0.909091  0.992366  0.948905\n",
              "2   Logistic Regression classifier   0.909091  0.992366  0.948905\n",
              "4                Voting Classifier   0.909091  0.992366  0.948905\n",
              "7              AdaBoost classifier   0.909091  0.984848  0.945455\n",
              "3         Decision Tree Classifier   0.902098  0.984733  0.941606\n",
              "5         Random forest Classifier   0.818182  0.983193  0.893130\n",
              "0             KNeighborsClassifier   0.811189  0.950820  0.875472"
            ]
          },
          "metadata": {
            "tags": []
          },
          "execution_count": 30
        }
      ]
    },
    {
      "cell_type": "code",
      "metadata": {
        "id": "YSI2w_CC8M3K"
      },
      "source": [
        ""
      ],
      "execution_count": null,
      "outputs": []
    },
    {
      "cell_type": "markdown",
      "metadata": {
        "id": "xZFKLjJpiE7v"
      },
      "source": [
        "#Bonus : Transformation sans columns transformer \n",
        "Dans cette partie on a essayé de créer des transformation sans columns transformers en modifiant les données columns par columns selon nos besoin, cette methode nous a présenter quelques erreurs en algorithmes plus tards ce qui nous laisse revenir vers la methodes colums transformes\n"
      ]
    },
    {
      "cell_type": "markdown",
      "metadata": {
        "id": "wP1qBhivJIKi"
      },
      "source": [
        "#Bonus\n"
      ]
    },
    {
      "cell_type": "code",
      "metadata": {
        "id": "FoNgfYUBso0y",
        "outputId": "ac1fe7a6-d261-4e25-d642-bf0fe40bb9dc",
        "colab": {
          "base_uri": "https://localhost:8080/",
          "height": 195
        }
      },
      "source": [
        "total = x_train.isnull().sum().sort_values(ascending=False)\n",
        "percent_1 = x_train.isnull().sum()/x_train.isnull().count()*100\n",
        "percent_2 = (round(percent_1, 1)).sort_values(ascending=False)\n",
        "missing_data = pd.concat([total, percent_2], axis=1, keys=['Total', '%'])\n",
        "missing_data.head(5)"
      ],
      "execution_count": null,
      "outputs": [
        {
          "output_type": "execute_result",
          "data": {
            "text/html": [
              "<div>\n",
              "<style scoped>\n",
              "    .dataframe tbody tr th:only-of-type {\n",
              "        vertical-align: middle;\n",
              "    }\n",
              "\n",
              "    .dataframe tbody tr th {\n",
              "        vertical-align: top;\n",
              "    }\n",
              "\n",
              "    .dataframe thead th {\n",
              "        text-align: right;\n",
              "    }\n",
              "</style>\n",
              "<table border=\"1\" class=\"dataframe\">\n",
              "  <thead>\n",
              "    <tr style=\"text-align: right;\">\n",
              "      <th></th>\n",
              "      <th>Total</th>\n",
              "      <th>%</th>\n",
              "    </tr>\n",
              "  </thead>\n",
              "  <tbody>\n",
              "    <tr>\n",
              "      <th>body</th>\n",
              "      <td>1064</td>\n",
              "      <td>90.3</td>\n",
              "    </tr>\n",
              "    <tr>\n",
              "      <th>cabin</th>\n",
              "      <td>914</td>\n",
              "      <td>77.6</td>\n",
              "    </tr>\n",
              "    <tr>\n",
              "      <th>boat</th>\n",
              "      <td>748</td>\n",
              "      <td>63.5</td>\n",
              "    </tr>\n",
              "    <tr>\n",
              "      <th>home.dest</th>\n",
              "      <td>500</td>\n",
              "      <td>42.4</td>\n",
              "    </tr>\n",
              "    <tr>\n",
              "      <th>age</th>\n",
              "      <td>235</td>\n",
              "      <td>19.9</td>\n",
              "    </tr>\n",
              "  </tbody>\n",
              "</table>\n",
              "</div>"
            ],
            "text/plain": [
              "           Total     %\n",
              "body        1064  90.3\n",
              "cabin        914  77.6\n",
              "boat         748  63.5\n",
              "home.dest    500  42.4\n",
              "age          235  19.9"
            ]
          },
          "metadata": {
            "tags": []
          },
          "execution_count": 122
        }
      ]
    },
    {
      "cell_type": "code",
      "metadata": {
        "id": "S1VVuJFGtZ6p",
        "outputId": "4406b582-21ac-47a0-9191-bc07c9f574d7",
        "colab": {
          "base_uri": "https://localhost:8080/",
          "height": 50
        }
      },
      "source": [
        "x_train.columns.values"
      ],
      "execution_count": null,
      "outputs": [
        {
          "output_type": "execute_result",
          "data": {
            "text/plain": [
              "array(['pclass', 'name', 'sex', 'age', 'sibsp', 'parch', 'ticket', 'fare',\n",
              "       'cabin', 'embarked', 'boat', 'body', 'home.dest'], dtype=object)"
            ]
          },
          "metadata": {
            "tags": []
          },
          "execution_count": 123
        }
      ]
    },
    {
      "cell_type": "code",
      "metadata": {
        "id": "c4apqgFhO4vW"
      },
      "source": [
        "to_be_removed = ['name', 'cabin', 'ticket', 'passengerId']"
      ],
      "execution_count": null,
      "outputs": []
    },
    {
      "cell_type": "markdown",
      "metadata": {
        "id": "7oJovEp0zk4B"
      },
      "source": [
        "La transformation va être une conversion des cellule nulle"
      ]
    },
    {
      "cell_type": "markdown",
      "metadata": {
        "id": "qPDR8GpPzuXd"
      },
      "source": [
        "Création d'un array avec des variable random pour the feature 'age'"
      ]
    },
    {
      "cell_type": "markdown",
      "metadata": {
        "id": "NXWyzGXQ0DWt"
      },
      "source": [
        "réparation de 'Embarked'"
      ]
    },
    {
      "cell_type": "code",
      "metadata": {
        "id": "A-VNefgK0B3l",
        "outputId": "35c439c3-73fd-4c65-fc06-41376b758a1d",
        "colab": {
          "base_uri": "https://localhost:8080/",
          "height": 101
        }
      },
      "source": [
        "x_train['embarked'].describe()"
      ],
      "execution_count": null,
      "outputs": [
        {
          "output_type": "execute_result",
          "data": {
            "text/plain": [
              "count     1176\n",
              "unique       3\n",
              "top          S\n",
              "freq       821\n",
              "Name: embarked, dtype: object"
            ]
          },
          "metadata": {
            "tags": []
          },
          "execution_count": 125
        }
      ]
    },
    {
      "cell_type": "code",
      "metadata": {
        "id": "7RP0QqRY0Sa0",
        "outputId": "03a5a07d-7028-4d8e-a381-faab9540666a",
        "colab": {
          "base_uri": "https://localhost:8080/",
          "height": 118
        }
      },
      "source": [
        "common_value = 'S'\n",
        "data = [x_train]\n",
        "\n",
        "for dataset in data:\n",
        "    dataset['embarked'] = dataset['embarked'].fillna(common_value)"
      ],
      "execution_count": null,
      "outputs": [
        {
          "output_type": "stream",
          "text": [
            "/usr/local/lib/python3.6/dist-packages/ipykernel_launcher.py:5: SettingWithCopyWarning: \n",
            "A value is trying to be set on a copy of a slice from a DataFrame.\n",
            "Try using .loc[row_indexer,col_indexer] = value instead\n",
            "\n",
            "See the caveats in the documentation: https://pandas.pydata.org/pandas-docs/stable/user_guide/indexing.html#returning-a-view-versus-a-copy\n",
            "  \"\"\"\n"
          ],
          "name": "stderr"
        }
      ]
    },
    {
      "cell_type": "code",
      "metadata": {
        "id": "ZflE1qT_1obC",
        "outputId": "872dce50-0922-421e-e4ab-7a70008ae65e",
        "colab": {
          "base_uri": "https://localhost:8080/",
          "height": 353
        }
      },
      "source": [
        "x_train.info()"
      ],
      "execution_count": null,
      "outputs": [
        {
          "output_type": "stream",
          "text": [
            "<class 'pandas.core.frame.DataFrame'>\n",
            "Int64Index: 1178 entries, 1279 to 734\n",
            "Data columns (total 13 columns):\n",
            " #   Column     Non-Null Count  Dtype  \n",
            "---  ------     --------------  -----  \n",
            " 0   pclass     1178 non-null   int64  \n",
            " 1   name       1178 non-null   object \n",
            " 2   sex        1178 non-null   object \n",
            " 3   age        943 non-null    float64\n",
            " 4   sibsp      1178 non-null   int64  \n",
            " 5   parch      1178 non-null   int64  \n",
            " 6   ticket     1178 non-null   object \n",
            " 7   fare       1177 non-null   float64\n",
            " 8   cabin      264 non-null    object \n",
            " 9   embarked   1178 non-null   object \n",
            " 10  boat       430 non-null    object \n",
            " 11  body       114 non-null    float64\n",
            " 12  home.dest  678 non-null    object \n",
            "dtypes: float64(3), int64(3), object(7)\n",
            "memory usage: 128.8+ KB\n"
          ],
          "name": "stdout"
        }
      ]
    },
    {
      "cell_type": "markdown",
      "metadata": {
        "id": "WUJJRjUP1zvT"
      },
      "source": [
        "Drop fo Tickets\n"
      ]
    },
    {
      "cell_type": "code",
      "metadata": {
        "id": "6r9CHNzi11yv"
      },
      "source": [
        "x_train = x_train.drop(['ticket'], axis=1)\n"
      ],
      "execution_count": null,
      "outputs": []
    }
  ]
}