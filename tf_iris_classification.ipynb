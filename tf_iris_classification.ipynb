{
  "nbformat": 4,
  "nbformat_minor": 0,
  "metadata": {
    "colab": {
      "name": "tf_iris_classification.ipynb",
      "provenance": []
    },
    "kernelspec": {
      "name": "python3",
      "display_name": "Python 3"
    }
  },
  "cells": [
    {
      "cell_type": "markdown",
      "metadata": {
        "id": "MNP_19aYEJVB"
      },
      "source": [
        "#Classification\n",
        "Where regression was used to predict a numeric value, classification is used to seperate data points into classes of different labels. In this example we will use a TensorFlow estimator to classify flowers."
      ]
    },
    {
      "cell_type": "code",
      "metadata": {
        "id": "PDRMzxxwDu3-"
      },
      "source": [
        "%tensorflow_version 2.x\n",
        "from __future__ import absolute_import, division, print_function, unicode_literals\n",
        "\n",
        "\n",
        "import tensorflow as tf\n",
        "\n",
        "import pandas as pd"
      ],
      "execution_count": 1,
      "outputs": []
    },
    {
      "cell_type": "markdown",
      "metadata": {
        "id": "kgs1Ns6cE9-S"
      },
      "source": [
        "###Dataset\n",
        "This specific dataset seperates flowers into 3 different classes of species.\n",
        "- Setosa\n",
        "- Versicolor\n",
        "- Virginica\n",
        "\n",
        "The information about each flower is the following.\n",
        "- sepal length\n",
        "- sepal width\n",
        "- petal length\n",
        "- petal width"
      ]
    },
    {
      "cell_type": "code",
      "metadata": {
        "id": "5OmUayfXFCU2",
        "outputId": "59e8d236-fdeb-450f-bb3d-38c4fb89fa43",
        "colab": {
          "base_uri": "https://localhost:8080/",
          "height": 105
        }
      },
      "source": [
        "# Lets define some constants to help us later on\n",
        "CSV_COLUMN_NAMES = ['SepalLength', 'SepalWidth', 'PetalLength', 'PetalWidth', 'Species']\n",
        "SPECIES = ['Setosa', 'Versicolor', 'Virginica']\n",
        "\n",
        "train_path = tf.keras.utils.get_file(\n",
        "    \"iris_training.csv\", \"https://storage.googleapis.com/download.tensorflow.org/data/iris_training.csv\")\n",
        "test_path = tf.keras.utils.get_file(\n",
        "    \"iris_test.csv\", \"https://storage.googleapis.com/download.tensorflow.org/data/iris_test.csv\")\n",
        "\n",
        "train = pd.read_csv(train_path, names=CSV_COLUMN_NAMES, header=0)\n",
        "test = pd.read_csv(test_path, names=CSV_COLUMN_NAMES, header=0)\n",
        "# Here we use keras (a module inside of TensorFlow) to grab our datasets and read them into a pandas dataframe"
      ],
      "execution_count": 2,
      "outputs": [
        {
          "output_type": "stream",
          "text": [
            "Downloading data from https://storage.googleapis.com/download.tensorflow.org/data/iris_training.csv\n",
            "8192/2194 [================================================================================================================] - 0s 0us/step\n",
            "Downloading data from https://storage.googleapis.com/download.tensorflow.org/data/iris_test.csv\n",
            "8192/573 [============================================================================================================================================================================================================================================================================================================================================================================================================================================] - 0s 0us/step\n"
          ],
          "name": "stdout"
        }
      ]
    },
    {
      "cell_type": "code",
      "metadata": {
        "id": "nXyCMYUOFmp_",
        "outputId": "189c9135-b380-40ba-9be1-87833e1e5555",
        "colab": {
          "base_uri": "https://localhost:8080/",
          "height": 204
        }
      },
      "source": [
        "train.head()"
      ],
      "execution_count": 3,
      "outputs": [
        {
          "output_type": "execute_result",
          "data": {
            "text/html": [
              "<div>\n",
              "<style scoped>\n",
              "    .dataframe tbody tr th:only-of-type {\n",
              "        vertical-align: middle;\n",
              "    }\n",
              "\n",
              "    .dataframe tbody tr th {\n",
              "        vertical-align: top;\n",
              "    }\n",
              "\n",
              "    .dataframe thead th {\n",
              "        text-align: right;\n",
              "    }\n",
              "</style>\n",
              "<table border=\"1\" class=\"dataframe\">\n",
              "  <thead>\n",
              "    <tr style=\"text-align: right;\">\n",
              "      <th></th>\n",
              "      <th>SepalLength</th>\n",
              "      <th>SepalWidth</th>\n",
              "      <th>PetalLength</th>\n",
              "      <th>PetalWidth</th>\n",
              "      <th>Species</th>\n",
              "    </tr>\n",
              "  </thead>\n",
              "  <tbody>\n",
              "    <tr>\n",
              "      <th>0</th>\n",
              "      <td>6.4</td>\n",
              "      <td>2.8</td>\n",
              "      <td>5.6</td>\n",
              "      <td>2.2</td>\n",
              "      <td>2</td>\n",
              "    </tr>\n",
              "    <tr>\n",
              "      <th>1</th>\n",
              "      <td>5.0</td>\n",
              "      <td>2.3</td>\n",
              "      <td>3.3</td>\n",
              "      <td>1.0</td>\n",
              "      <td>1</td>\n",
              "    </tr>\n",
              "    <tr>\n",
              "      <th>2</th>\n",
              "      <td>4.9</td>\n",
              "      <td>2.5</td>\n",
              "      <td>4.5</td>\n",
              "      <td>1.7</td>\n",
              "      <td>2</td>\n",
              "    </tr>\n",
              "    <tr>\n",
              "      <th>3</th>\n",
              "      <td>4.9</td>\n",
              "      <td>3.1</td>\n",
              "      <td>1.5</td>\n",
              "      <td>0.1</td>\n",
              "      <td>0</td>\n",
              "    </tr>\n",
              "    <tr>\n",
              "      <th>4</th>\n",
              "      <td>5.7</td>\n",
              "      <td>3.8</td>\n",
              "      <td>1.7</td>\n",
              "      <td>0.3</td>\n",
              "      <td>0</td>\n",
              "    </tr>\n",
              "  </tbody>\n",
              "</table>\n",
              "</div>"
            ],
            "text/plain": [
              "   SepalLength  SepalWidth  PetalLength  PetalWidth  Species\n",
              "0          6.4         2.8          5.6         2.2        2\n",
              "1          5.0         2.3          3.3         1.0        1\n",
              "2          4.9         2.5          4.5         1.7        2\n",
              "3          4.9         3.1          1.5         0.1        0\n",
              "4          5.7         3.8          1.7         0.3        0"
            ]
          },
          "metadata": {
            "tags": []
          },
          "execution_count": 3
        }
      ]
    },
    {
      "cell_type": "markdown",
      "metadata": {
        "id": "TrSR_puUGw4J"
      },
      "source": [
        "Next we seperate our train and test data by popping columns from the dataframe"
      ]
    },
    {
      "cell_type": "code",
      "metadata": {
        "id": "PCoYDOQOG7U3",
        "outputId": "9cb1c756-3efe-4e39-97ea-1880622ba31d",
        "colab": {
          "base_uri": "https://localhost:8080/",
          "height": 204
        }
      },
      "source": [
        "train_y = train.pop('Species')\n",
        "test_y = test.pop('Species')\n",
        "train.head() # the species column is now gone"
      ],
      "execution_count": 4,
      "outputs": [
        {
          "output_type": "execute_result",
          "data": {
            "text/html": [
              "<div>\n",
              "<style scoped>\n",
              "    .dataframe tbody tr th:only-of-type {\n",
              "        vertical-align: middle;\n",
              "    }\n",
              "\n",
              "    .dataframe tbody tr th {\n",
              "        vertical-align: top;\n",
              "    }\n",
              "\n",
              "    .dataframe thead th {\n",
              "        text-align: right;\n",
              "    }\n",
              "</style>\n",
              "<table border=\"1\" class=\"dataframe\">\n",
              "  <thead>\n",
              "    <tr style=\"text-align: right;\">\n",
              "      <th></th>\n",
              "      <th>SepalLength</th>\n",
              "      <th>SepalWidth</th>\n",
              "      <th>PetalLength</th>\n",
              "      <th>PetalWidth</th>\n",
              "    </tr>\n",
              "  </thead>\n",
              "  <tbody>\n",
              "    <tr>\n",
              "      <th>0</th>\n",
              "      <td>6.4</td>\n",
              "      <td>2.8</td>\n",
              "      <td>5.6</td>\n",
              "      <td>2.2</td>\n",
              "    </tr>\n",
              "    <tr>\n",
              "      <th>1</th>\n",
              "      <td>5.0</td>\n",
              "      <td>2.3</td>\n",
              "      <td>3.3</td>\n",
              "      <td>1.0</td>\n",
              "    </tr>\n",
              "    <tr>\n",
              "      <th>2</th>\n",
              "      <td>4.9</td>\n",
              "      <td>2.5</td>\n",
              "      <td>4.5</td>\n",
              "      <td>1.7</td>\n",
              "    </tr>\n",
              "    <tr>\n",
              "      <th>3</th>\n",
              "      <td>4.9</td>\n",
              "      <td>3.1</td>\n",
              "      <td>1.5</td>\n",
              "      <td>0.1</td>\n",
              "    </tr>\n",
              "    <tr>\n",
              "      <th>4</th>\n",
              "      <td>5.7</td>\n",
              "      <td>3.8</td>\n",
              "      <td>1.7</td>\n",
              "      <td>0.3</td>\n",
              "    </tr>\n",
              "  </tbody>\n",
              "</table>\n",
              "</div>"
            ],
            "text/plain": [
              "   SepalLength  SepalWidth  PetalLength  PetalWidth\n",
              "0          6.4         2.8          5.6         2.2\n",
              "1          5.0         2.3          3.3         1.0\n",
              "2          4.9         2.5          4.5         1.7\n",
              "3          4.9         3.1          1.5         0.1\n",
              "4          5.7         3.8          1.7         0.3"
            ]
          },
          "metadata": {
            "tags": []
          },
          "execution_count": 4
        }
      ]
    },
    {
      "cell_type": "code",
      "metadata": {
        "id": "AnogCKfJHDjf",
        "outputId": "30e2df80-9d8d-40f3-caa4-6e31e8d7cc03",
        "colab": {
          "base_uri": "https://localhost:8080/",
          "height": 34
        }
      },
      "source": [
        "train.shape  # we have 120 entires with 4 features"
      ],
      "execution_count": 5,
      "outputs": [
        {
          "output_type": "execute_result",
          "data": {
            "text/plain": [
              "(120, 4)"
            ]
          },
          "metadata": {
            "tags": []
          },
          "execution_count": 5
        }
      ]
    },
    {
      "cell_type": "code",
      "metadata": {
        "id": "-52UJiIGHJnd",
        "outputId": "ef763b55-c2f9-4d9c-f7a7-d1c72fc5e5ca",
        "colab": {
          "base_uri": "https://localhost:8080/",
          "height": 119
        }
      },
      "source": [
        "train_y.head()"
      ],
      "execution_count": 6,
      "outputs": [
        {
          "output_type": "execute_result",
          "data": {
            "text/plain": [
              "0    2\n",
              "1    1\n",
              "2    2\n",
              "3    0\n",
              "4    0\n",
              "Name: Species, dtype: int64"
            ]
          },
          "metadata": {
            "tags": []
          },
          "execution_count": 6
        }
      ]
    },
    {
      "cell_type": "markdown",
      "metadata": {
        "id": "EbbV0PmgHcbM"
      },
      "source": [
        "###Input function\n",
        "This function is easier than the one we used in our linear regression notebook. So we declare a function that creates the datasets for us."
      ]
    },
    {
      "cell_type": "code",
      "metadata": {
        "id": "42DMpnGpHlW0"
      },
      "source": [
        "def input_fn(features, labels, training=True, batch_size=256):\n",
        "    # Convert the inputs to a Dataset.\n",
        "    dataset = tf.data.Dataset.from_tensor_slices((dict(features), labels))\n",
        "\n",
        "    # Shuffle and repeat if you are in training mode.\n",
        "    if training:\n",
        "        dataset = dataset.shuffle(1000).repeat()\n",
        "    \n",
        "    return dataset.batch(batch_size)"
      ],
      "execution_count": 7,
      "outputs": []
    },
    {
      "cell_type": "markdown",
      "metadata": {
        "id": "HvkJ6EUXIXDx"
      },
      "source": [
        "###Feature Columns\n",
        "Now we must convert our keys to feature columns by appending each```\n",
        "tf.feature_column.numeric_column(key = ourColumnName)\n",
        "```"
      ]
    },
    {
      "cell_type": "code",
      "metadata": {
        "id": "5175BHKHIb2W",
        "outputId": "b83d4391-8ef8-4f18-b0f7-da761d843b52",
        "colab": {
          "base_uri": "https://localhost:8080/",
          "height": 122
        }
      },
      "source": [
        "# Feature columns describe how to use the input.\n",
        "\n",
        "my_feature_columns = []\n",
        "for key in train.keys():\n",
        "    print(key)\n",
        "    my_feature_columns.append(tf.feature_column.numeric_column(key=key))\n",
        "print(my_feature_columns)"
      ],
      "execution_count": 8,
      "outputs": [
        {
          "output_type": "stream",
          "text": [
            "SepalLength\n",
            "SepalWidth\n",
            "PetalLength\n",
            "PetalWidth\n",
            "[NumericColumn(key='SepalLength', shape=(1,), default_value=None, dtype=tf.float32, normalizer_fn=None), NumericColumn(key='SepalWidth', shape=(1,), default_value=None, dtype=tf.float32, normalizer_fn=None), NumericColumn(key='PetalLength', shape=(1,), default_value=None, dtype=tf.float32, normalizer_fn=None), NumericColumn(key='PetalWidth', shape=(1,), default_value=None, dtype=tf.float32, normalizer_fn=None)]\n"
          ],
          "name": "stdout"
        }
      ]
    },
    {
      "cell_type": "markdown",
      "metadata": {
        "id": "65xXvpBFLs8s"
      },
      "source": [
        "###Building the Model\n",
        "And now we are ready to choose a model. For classification tasks there are variety of different estimators/models that we can pick from. Some options are listed below.\n",
        "- ```DNNClassifier``` (Deep Neural Network)\n",
        "- ```LinearClassifier```\n",
        "\n",
        "We can choose either model but the DNN seems to be the best choice. This is because we may not be able to find a linear coorespondence in our data. (I need to check this)"
      ]
    },
    {
      "cell_type": "code",
      "metadata": {
        "id": "wsWOLlEfNVvX",
        "outputId": "93a2ba17-688d-469a-b914-9c14c99f0895",
        "colab": {
          "base_uri": "https://localhost:8080/",
          "height": 190
        }
      },
      "source": [
        "# Build a DNN with 2 hidden layers with 30 and 10 hidden nodes each.\n",
        "classifier = tf.estimator.DNNClassifier(\n",
        "    feature_columns=my_feature_columns,\n",
        "    # Two hidden layers of 30 and 10 nodes respectively.\n",
        "    hidden_units=[30, 10],\n",
        "    # The model must choose between 3 classes.\n",
        "    n_classes=3)"
      ],
      "execution_count": 9,
      "outputs": [
        {
          "output_type": "stream",
          "text": [
            "INFO:tensorflow:Using default config.\n",
            "WARNING:tensorflow:Using temporary folder as model directory: /tmp/tmpwrd7ek_s\n",
            "INFO:tensorflow:Using config: {'_model_dir': '/tmp/tmpwrd7ek_s', '_tf_random_seed': None, '_save_summary_steps': 100, '_save_checkpoints_steps': None, '_save_checkpoints_secs': 600, '_session_config': allow_soft_placement: true\n",
            "graph_options {\n",
            "  rewrite_options {\n",
            "    meta_optimizer_iterations: ONE\n",
            "  }\n",
            "}\n",
            ", '_keep_checkpoint_max': 5, '_keep_checkpoint_every_n_hours': 10000, '_log_step_count_steps': 100, '_train_distribute': None, '_device_fn': None, '_protocol': None, '_eval_distribute': None, '_experimental_distribute': None, '_experimental_max_worker_delay_secs': None, '_session_creation_timeout_secs': 7200, '_service': None, '_cluster_spec': ClusterSpec({}), '_task_type': 'worker', '_task_id': 0, '_global_id_in_cluster': 0, '_master': '', '_evaluation_master': '', '_is_chief': True, '_num_ps_replicas': 0, '_num_worker_replicas': 1}\n"
          ],
          "name": "stdout"
        }
      ]
    },
    {
      "cell_type": "markdown",
      "metadata": {
        "id": "sywMh8rDOWGR"
      },
      "source": [
        "What we've just done is created a deep neural network that has two hidden layers. These layers have 30 and 10 neurons respectively. This is the number of neurons the TensorFlow official tutorial uses so we'll stick with it. However, it is worth mentioning that the number of hidden neurons is an arbitrary number and many experiments and tests are usually done to determine the best choice for these values. So im going to try playing around with these values in the future."
      ]
    },
    {
      "cell_type": "markdown",
      "metadata": {
        "id": "CTYZcFFOQ1Pj"
      },
      "source": [
        "###Training"
      ]
    },
    {
      "cell_type": "markdown",
      "metadata": {
        "id": "AosNnQAwTOBB"
      },
      "source": [
        "We train our model with 5000 steps. More does not mean better."
      ]
    },
    {
      "cell_type": "code",
      "metadata": {
        "id": "jzUHx7SHQ5uT",
        "outputId": "c80c6614-85f8-4825-bf48-9ae8272dd1de",
        "colab": {
          "base_uri": "https://localhost:8080/",
          "height": 1000
        }
      },
      "source": [
        "classifier.train(\n",
        "    input_fn=lambda: input_fn(train, train_y, training=True),\n",
        "    steps=5000)\n",
        "# We include a lambda to avoid creating an inner function previously"
      ],
      "execution_count": 10,
      "outputs": [
        {
          "output_type": "stream",
          "text": [
            "WARNING:tensorflow:From /usr/local/lib/python3.6/dist-packages/tensorflow/python/training/training_util.py:236: Variable.initialized_value (from tensorflow.python.ops.variables) is deprecated and will be removed in a future version.\n",
            "Instructions for updating:\n",
            "Use Variable.read_value. Variables in 2.X are initialized automatically both in eager and graph (inside tf.defun) contexts.\n",
            "INFO:tensorflow:Calling model_fn.\n",
            "WARNING:tensorflow:Layer dnn is casting an input tensor from dtype float64 to the layer's dtype of float32, which is new behavior in TensorFlow 2.  The layer has dtype float32 because its dtype defaults to floatx.\n",
            "\n",
            "If you intended to run this layer in float32, you can safely ignore this warning. If in doubt, this warning is likely only an issue if you are porting a TensorFlow 1.X model to TensorFlow 2.\n",
            "\n",
            "To change all layers to have dtype float64 by default, call `tf.keras.backend.set_floatx('float64')`. To change just this layer, pass dtype='float64' to the layer constructor. If you are the author of this layer, you can disable autocasting by passing autocast=False to the base Layer constructor.\n",
            "\n",
            "WARNING:tensorflow:From /usr/local/lib/python3.6/dist-packages/tensorflow/python/keras/optimizer_v2/adagrad.py:83: calling Constant.__init__ (from tensorflow.python.ops.init_ops) with dtype is deprecated and will be removed in a future version.\n",
            "Instructions for updating:\n",
            "Call initializer instance with the dtype argument instead of passing it to the constructor\n",
            "INFO:tensorflow:Done calling model_fn.\n",
            "INFO:tensorflow:Create CheckpointSaverHook.\n",
            "INFO:tensorflow:Graph was finalized.\n",
            "INFO:tensorflow:Running local_init_op.\n",
            "INFO:tensorflow:Done running local_init_op.\n",
            "INFO:tensorflow:Calling checkpoint listeners before saving checkpoint 0...\n",
            "INFO:tensorflow:Saving checkpoints for 0 into /tmp/tmpwrd7ek_s/model.ckpt.\n",
            "INFO:tensorflow:Calling checkpoint listeners after saving checkpoint 0...\n",
            "INFO:tensorflow:loss = 1.4622976, step = 0\n",
            "INFO:tensorflow:global_step/sec: 556.314\n",
            "INFO:tensorflow:loss = 1.1114836, step = 100 (0.181 sec)\n",
            "INFO:tensorflow:global_step/sec: 635.381\n",
            "INFO:tensorflow:loss = 1.0015614, step = 200 (0.157 sec)\n",
            "INFO:tensorflow:global_step/sec: 697.037\n",
            "INFO:tensorflow:loss = 0.9103624, step = 300 (0.145 sec)\n",
            "INFO:tensorflow:global_step/sec: 684.73\n",
            "INFO:tensorflow:loss = 0.8480176, step = 400 (0.147 sec)\n",
            "INFO:tensorflow:global_step/sec: 699.311\n",
            "INFO:tensorflow:loss = 0.8067179, step = 500 (0.142 sec)\n",
            "INFO:tensorflow:global_step/sec: 698.65\n",
            "INFO:tensorflow:loss = 0.76422155, step = 600 (0.143 sec)\n",
            "INFO:tensorflow:global_step/sec: 702.137\n",
            "INFO:tensorflow:loss = 0.7366557, step = 700 (0.141 sec)\n",
            "INFO:tensorflow:global_step/sec: 706.989\n",
            "INFO:tensorflow:loss = 0.7157203, step = 800 (0.141 sec)\n",
            "INFO:tensorflow:global_step/sec: 682.7\n",
            "INFO:tensorflow:loss = 0.69261456, step = 900 (0.147 sec)\n",
            "INFO:tensorflow:global_step/sec: 706.168\n",
            "INFO:tensorflow:loss = 0.67321426, step = 1000 (0.141 sec)\n",
            "INFO:tensorflow:global_step/sec: 666.602\n",
            "INFO:tensorflow:loss = 0.6511454, step = 1100 (0.152 sec)\n",
            "INFO:tensorflow:global_step/sec: 662.542\n",
            "INFO:tensorflow:loss = 0.63646585, step = 1200 (0.151 sec)\n",
            "INFO:tensorflow:global_step/sec: 697.676\n",
            "INFO:tensorflow:loss = 0.6168703, step = 1300 (0.142 sec)\n",
            "INFO:tensorflow:global_step/sec: 708.268\n",
            "INFO:tensorflow:loss = 0.61019105, step = 1400 (0.140 sec)\n",
            "INFO:tensorflow:global_step/sec: 706.049\n",
            "INFO:tensorflow:loss = 0.5952374, step = 1500 (0.143 sec)\n",
            "INFO:tensorflow:global_step/sec: 685.093\n",
            "INFO:tensorflow:loss = 0.5726162, step = 1600 (0.146 sec)\n",
            "INFO:tensorflow:global_step/sec: 703.963\n",
            "INFO:tensorflow:loss = 0.58560437, step = 1700 (0.144 sec)\n",
            "INFO:tensorflow:global_step/sec: 674.166\n",
            "INFO:tensorflow:loss = 0.56198466, step = 1800 (0.148 sec)\n",
            "INFO:tensorflow:global_step/sec: 690.071\n",
            "INFO:tensorflow:loss = 0.5625868, step = 1900 (0.145 sec)\n",
            "INFO:tensorflow:global_step/sec: 713.975\n",
            "INFO:tensorflow:loss = 0.5511381, step = 2000 (0.138 sec)\n",
            "INFO:tensorflow:global_step/sec: 717.256\n",
            "INFO:tensorflow:loss = 0.5389663, step = 2100 (0.140 sec)\n",
            "INFO:tensorflow:global_step/sec: 703.316\n",
            "INFO:tensorflow:loss = 0.52888155, step = 2200 (0.142 sec)\n",
            "WARNING:tensorflow:It seems that global step (tf.train.get_global_step) has not been increased. Current value (could be stable): 2280 vs previous value: 2280. You could increase the global step by passing tf.train.get_global_step() to Optimizer.apply_gradients or Optimizer.minimize.\n",
            "INFO:tensorflow:global_step/sec: 666.814\n",
            "INFO:tensorflow:loss = 0.5250304, step = 2300 (0.151 sec)\n",
            "INFO:tensorflow:global_step/sec: 721.446\n",
            "INFO:tensorflow:loss = 0.5083011, step = 2400 (0.139 sec)\n",
            "INFO:tensorflow:global_step/sec: 684.374\n",
            "INFO:tensorflow:loss = 0.49464467, step = 2500 (0.146 sec)\n",
            "INFO:tensorflow:global_step/sec: 664.692\n",
            "INFO:tensorflow:loss = 0.48993647, step = 2600 (0.151 sec)\n",
            "INFO:tensorflow:global_step/sec: 713.483\n",
            "INFO:tensorflow:loss = 0.508201, step = 2700 (0.140 sec)\n",
            "INFO:tensorflow:global_step/sec: 711.077\n",
            "INFO:tensorflow:loss = 0.4941191, step = 2800 (0.138 sec)\n",
            "INFO:tensorflow:global_step/sec: 686.63\n",
            "INFO:tensorflow:loss = 0.49226058, step = 2900 (0.146 sec)\n",
            "INFO:tensorflow:global_step/sec: 699.873\n",
            "INFO:tensorflow:loss = 0.4811769, step = 3000 (0.144 sec)\n",
            "INFO:tensorflow:global_step/sec: 715.683\n",
            "INFO:tensorflow:loss = 0.47306037, step = 3100 (0.141 sec)\n",
            "INFO:tensorflow:global_step/sec: 674.843\n",
            "INFO:tensorflow:loss = 0.47702327, step = 3200 (0.148 sec)\n",
            "INFO:tensorflow:global_step/sec: 697.429\n",
            "INFO:tensorflow:loss = 0.46955818, step = 3300 (0.141 sec)\n",
            "INFO:tensorflow:global_step/sec: 691.517\n",
            "INFO:tensorflow:loss = 0.4638579, step = 3400 (0.145 sec)\n",
            "INFO:tensorflow:global_step/sec: 717.425\n",
            "INFO:tensorflow:loss = 0.4589728, step = 3500 (0.141 sec)\n",
            "INFO:tensorflow:global_step/sec: 705.798\n",
            "INFO:tensorflow:loss = 0.45457935, step = 3600 (0.143 sec)\n",
            "INFO:tensorflow:global_step/sec: 686.479\n",
            "INFO:tensorflow:loss = 0.44881606, step = 3700 (0.145 sec)\n",
            "INFO:tensorflow:global_step/sec: 709.136\n",
            "INFO:tensorflow:loss = 0.4460119, step = 3800 (0.140 sec)\n",
            "INFO:tensorflow:global_step/sec: 661.224\n",
            "INFO:tensorflow:loss = 0.45115656, step = 3900 (0.151 sec)\n",
            "INFO:tensorflow:global_step/sec: 700.642\n",
            "INFO:tensorflow:loss = 0.43702376, step = 4000 (0.143 sec)\n",
            "INFO:tensorflow:global_step/sec: 712.853\n",
            "INFO:tensorflow:loss = 0.44682425, step = 4100 (0.140 sec)\n",
            "INFO:tensorflow:global_step/sec: 695.188\n",
            "INFO:tensorflow:loss = 0.43555903, step = 4200 (0.146 sec)\n",
            "INFO:tensorflow:global_step/sec: 686.939\n",
            "INFO:tensorflow:loss = 0.43668842, step = 4300 (0.144 sec)\n",
            "INFO:tensorflow:global_step/sec: 696.585\n",
            "INFO:tensorflow:loss = 0.43218428, step = 4400 (0.143 sec)\n",
            "INFO:tensorflow:global_step/sec: 706.746\n",
            "INFO:tensorflow:loss = 0.42823958, step = 4500 (0.141 sec)\n",
            "INFO:tensorflow:global_step/sec: 675.185\n",
            "INFO:tensorflow:loss = 0.42118907, step = 4600 (0.148 sec)\n",
            "INFO:tensorflow:global_step/sec: 692.855\n",
            "INFO:tensorflow:loss = 0.4229495, step = 4700 (0.144 sec)\n",
            "INFO:tensorflow:global_step/sec: 693.849\n",
            "INFO:tensorflow:loss = 0.40927583, step = 4800 (0.146 sec)\n",
            "INFO:tensorflow:global_step/sec: 712.713\n",
            "INFO:tensorflow:loss = 0.40661666, step = 4900 (0.140 sec)\n",
            "INFO:tensorflow:Calling checkpoint listeners before saving checkpoint 5000...\n",
            "INFO:tensorflow:Saving checkpoints for 5000 into /tmp/tmpwrd7ek_s/model.ckpt.\n",
            "INFO:tensorflow:Calling checkpoint listeners after saving checkpoint 5000...\n",
            "INFO:tensorflow:Loss for final step: 0.42203715.\n"
          ],
          "name": "stdout"
        },
        {
          "output_type": "execute_result",
          "data": {
            "text/plain": [
              "<tensorflow_estimator.python.estimator.canned.dnn.DNNClassifierV2 at 0x7fdcaa648e10>"
            ]
          },
          "metadata": {
            "tags": []
          },
          "execution_count": 10
        }
      ]
    },
    {
      "cell_type": "markdown",
      "metadata": {
        "id": "E3IYR5dcSiid"
      },
      "source": [
        "###Evaluation\n",
        "Now we evaluate the trained model using the same function, by passing the test data. Notice this time we didn't specify the number of steps. This is because during evaluation the model will only look at the testing data one time."
      ]
    },
    {
      "cell_type": "code",
      "metadata": {
        "id": "sAwk-0ZuT68e",
        "outputId": "7da19d31-5481-44f8-c1b7-cd3cc1d133f0",
        "colab": {
          "base_uri": "https://localhost:8080/",
          "height": 377
        }
      },
      "source": [
        "eval_result = classifier.evaluate(\n",
        "    input_fn=lambda: input_fn(test, test_y, training=False))\n",
        "\n",
        "print('\\nTest set accuracy: {accuracy:0.3f}\\n'.format(**eval_result))"
      ],
      "execution_count": 11,
      "outputs": [
        {
          "output_type": "stream",
          "text": [
            "INFO:tensorflow:Calling model_fn.\n",
            "WARNING:tensorflow:Layer dnn is casting an input tensor from dtype float64 to the layer's dtype of float32, which is new behavior in TensorFlow 2.  The layer has dtype float32 because its dtype defaults to floatx.\n",
            "\n",
            "If you intended to run this layer in float32, you can safely ignore this warning. If in doubt, this warning is likely only an issue if you are porting a TensorFlow 1.X model to TensorFlow 2.\n",
            "\n",
            "To change all layers to have dtype float64 by default, call `tf.keras.backend.set_floatx('float64')`. To change just this layer, pass dtype='float64' to the layer constructor. If you are the author of this layer, you can disable autocasting by passing autocast=False to the base Layer constructor.\n",
            "\n",
            "INFO:tensorflow:Done calling model_fn.\n",
            "INFO:tensorflow:Starting evaluation at 2020-10-16T21:25:58Z\n",
            "INFO:tensorflow:Graph was finalized.\n",
            "INFO:tensorflow:Restoring parameters from /tmp/tmpwrd7ek_s/model.ckpt-5000\n",
            "INFO:tensorflow:Running local_init_op.\n",
            "INFO:tensorflow:Done running local_init_op.\n",
            "INFO:tensorflow:Inference Time : 0.20641s\n",
            "INFO:tensorflow:Finished evaluation at 2020-10-16-21:25:58\n",
            "INFO:tensorflow:Saving dict for global step 5000: accuracy = 0.8, average_loss = 0.49086192, global_step = 5000, loss = 0.49086192\n",
            "INFO:tensorflow:Saving 'checkpoint_path' summary for global step 5000: /tmp/tmpwrd7ek_s/model.ckpt-5000\n",
            "\n",
            "Test set accuracy: 0.800\n",
            "\n"
          ],
          "name": "stdout"
        }
      ]
    },
    {
      "cell_type": "markdown",
      "metadata": {
        "id": "NqXagWIQVG0I"
      },
      "source": [
        "#Prediction\n",
        "Now that we have a trained model it's time to use it to make predictions. I've written a little script below that allows you to type the features of a flower and see a prediction for its class."
      ]
    },
    {
      "cell_type": "code",
      "metadata": {
        "id": "oahhtqLCVMQP",
        "outputId": "252c61e1-5d5c-4867-cbda-b1ee80ba2a6f",
        "colab": {
          "base_uri": "https://localhost:8080/",
          "height": 418
        }
      },
      "source": [
        "def input_fn(features, batch_size=256):\n",
        "    # Convert the inputs to a Dataset without labels.\n",
        "    return tf.data.Dataset.from_tensor_slices(dict(features)).batch(batch_size)\n",
        "\n",
        "features = ['SepalLength', 'SepalWidth', 'PetalLength', 'PetalWidth']\n",
        "predict = {}\n",
        "\n",
        "print(\"Please type numeric values as prompted.\")\n",
        "for feature in features:\n",
        "  valid = True\n",
        "  while valid: \n",
        "    val = input(feature + \": \")\n",
        "    if not val.isdigit(): valid = False\n",
        "\n",
        "#tensorflow expects a list not only one value\n",
        "  predict[feature] = [float(val)]\n",
        "\n",
        "predictions = classifier.predict(input_fn=lambda: input_fn(predict))\n",
        "for pred_dict in predictions:\n",
        "    print(pred_dict)\n",
        "    class_id = pred_dict['class_ids'][0]\n",
        "    probability = pred_dict['probabilities'][class_id]\n",
        "\n",
        "    print('Prediction is \"{}\" ({:.1f}%)'.format(\n",
        "        SPECIES[class_id], 100 * probability))"
      ],
      "execution_count": 12,
      "outputs": [
        {
          "output_type": "stream",
          "text": [
            "Please type numeric values as prompted.\n",
            "SepalLength: 2\n",
            "SepalLength: 1\n",
            "SepalLength: 5\n",
            "SepalLength: 1\n",
            "SepalLength: 2\n",
            "SepalLength: 4\n",
            "SepalLength: 1\n",
            "SepalLength: 5\n",
            "SepalLength: 66\n",
            "SepalLength: \n"
          ],
          "name": "stdout"
        },
        {
          "output_type": "error",
          "ename": "ValueError",
          "evalue": "ignored",
          "traceback": [
            "\u001b[0;31m---------------------------------------------------------------------------\u001b[0m",
            "\u001b[0;31mValueError\u001b[0m                                Traceback (most recent call last)",
            "\u001b[0;32m<ipython-input-12-ebb63dfca290>\u001b[0m in \u001b[0;36m<module>\u001b[0;34m()\u001b[0m\n\u001b[1;32m     14\u001b[0m \u001b[0;34m\u001b[0m\u001b[0m\n\u001b[1;32m     15\u001b[0m \u001b[0;31m#tensorflow expects a list not only one value\u001b[0m\u001b[0;34m\u001b[0m\u001b[0;34m\u001b[0m\u001b[0;34m\u001b[0m\u001b[0m\n\u001b[0;32m---> 16\u001b[0;31m   \u001b[0mpredict\u001b[0m\u001b[0;34m[\u001b[0m\u001b[0mfeature\u001b[0m\u001b[0;34m]\u001b[0m \u001b[0;34m=\u001b[0m \u001b[0;34m[\u001b[0m\u001b[0mfloat\u001b[0m\u001b[0;34m(\u001b[0m\u001b[0mval\u001b[0m\u001b[0;34m)\u001b[0m\u001b[0;34m]\u001b[0m\u001b[0;34m\u001b[0m\u001b[0;34m\u001b[0m\u001b[0m\n\u001b[0m\u001b[1;32m     17\u001b[0m \u001b[0;34m\u001b[0m\u001b[0m\n\u001b[1;32m     18\u001b[0m \u001b[0mpredictions\u001b[0m \u001b[0;34m=\u001b[0m \u001b[0mclassifier\u001b[0m\u001b[0;34m.\u001b[0m\u001b[0mpredict\u001b[0m\u001b[0;34m(\u001b[0m\u001b[0minput_fn\u001b[0m\u001b[0;34m=\u001b[0m\u001b[0;32mlambda\u001b[0m\u001b[0;34m:\u001b[0m \u001b[0minput_fn\u001b[0m\u001b[0;34m(\u001b[0m\u001b[0mpredict\u001b[0m\u001b[0;34m)\u001b[0m\u001b[0;34m)\u001b[0m\u001b[0;34m\u001b[0m\u001b[0;34m\u001b[0m\u001b[0m\n",
            "\u001b[0;31mValueError\u001b[0m: could not convert string to float: "
          ]
        }
      ]
    },
    {
      "cell_type": "code",
      "metadata": {
        "id": "KJ0h96OyWx_-"
      },
      "source": [
        "# Here is some example input and expected classes you can try above\n",
        "expected = ['Setosa', 'Versicolor', 'Virginica']\n",
        "predict_x = {\n",
        "    'SepalLength': [5.1, 5.9, 6.9],\n",
        "    'SepalWidth': [3.3, 3.0, 3.1],\n",
        "    'PetalLength': [1.7, 4.2, 5.4],\n",
        "    'PetalWidth': [0.5, 1.5, 2.1],\n",
        "}"
      ],
      "execution_count": null,
      "outputs": []
    }
  ]
}